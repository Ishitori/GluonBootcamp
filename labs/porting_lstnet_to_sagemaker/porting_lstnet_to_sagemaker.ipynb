{
 "cells": [
  {
   "cell_type": "code",
   "execution_count": 7,
   "metadata": {},
   "outputs": [],
   "source": [
    "import boto3\n",
    "import os\n",
    "import pandas as pd\n",
    "import numpy as np\n",
    "from sagemaker.mxnet import MXNet\n",
    "from sagemaker import get_execution_role"
   ]
  },
  {
   "cell_type": "code",
   "execution_count": 8,
   "metadata": {},
   "outputs": [
    {
     "ename": "ValueError",
     "evalue": "The current AWS identity is not a role: arn:aws:iam::987551451182:user/eduthie, therefore it cannot be used as a SageMaker execution role",
     "output_type": "error",
     "traceback": [
      "\u001b[0;31m---------------------------------------------------------------------------\u001b[0m",
      "\u001b[0;31mValueError\u001b[0m                                Traceback (most recent call last)",
      "\u001b[0;32m<ipython-input-8-624d31e35797>\u001b[0m in \u001b[0;36m<module>\u001b[0;34m()\u001b[0m\n\u001b[1;32m      2\u001b[0m \u001b[0mprefix\u001b[0m \u001b[0;34m=\u001b[0m \u001b[0;34m'lstnet'\u001b[0m\u001b[0;34m\u001b[0m\u001b[0m\n\u001b[1;32m      3\u001b[0m \u001b[0;34m\u001b[0m\u001b[0m\n\u001b[0;32m----> 4\u001b[0;31m \u001b[0mrole\u001b[0m \u001b[0;34m=\u001b[0m \u001b[0mget_execution_role\u001b[0m\u001b[0;34m(\u001b[0m\u001b[0;34m)\u001b[0m\u001b[0;34m\u001b[0m\u001b[0m\n\u001b[0m\u001b[1;32m      5\u001b[0m \u001b[0;34m\u001b[0m\u001b[0m\n\u001b[1;32m      6\u001b[0m \u001b[0mdata_dir\u001b[0m \u001b[0;34m=\u001b[0m \u001b[0;34m'data'\u001b[0m\u001b[0;34m\u001b[0m\u001b[0m\n",
      "\u001b[0;32m/anaconda3/lib/python3.6/site-packages/sagemaker/session.py\u001b[0m in \u001b[0;36mget_execution_role\u001b[0;34m(sagemaker_session)\u001b[0m\n\u001b[1;32m    717\u001b[0m         \u001b[0;32mreturn\u001b[0m \u001b[0marn\u001b[0m\u001b[0;34m\u001b[0m\u001b[0m\n\u001b[1;32m    718\u001b[0m     \u001b[0mmessage\u001b[0m \u001b[0;34m=\u001b[0m \u001b[0;34m'The current AWS identity is not a role: {}, therefore it cannot be used as a SageMaker execution role'\u001b[0m\u001b[0;34m\u001b[0m\u001b[0m\n\u001b[0;32m--> 719\u001b[0;31m     \u001b[0;32mraise\u001b[0m \u001b[0mValueError\u001b[0m\u001b[0;34m(\u001b[0m\u001b[0mmessage\u001b[0m\u001b[0;34m.\u001b[0m\u001b[0mformat\u001b[0m\u001b[0;34m(\u001b[0m\u001b[0marn\u001b[0m\u001b[0;34m)\u001b[0m\u001b[0;34m)\u001b[0m\u001b[0;34m\u001b[0m\u001b[0m\n\u001b[0m\u001b[1;32m    720\u001b[0m \u001b[0;34m\u001b[0m\u001b[0m\n\u001b[1;32m    721\u001b[0m \u001b[0;34m\u001b[0m\u001b[0m\n",
      "\u001b[0;31mValueError\u001b[0m: The current AWS identity is not a role: arn:aws:iam::987551451182:user/eduthie, therefore it cannot be used as a SageMaker execution role"
     ]
    }
   ],
   "source": [
    "bucket = 'eduthie-sagemaker-1'\n",
    "prefix = 'lstnet'\n",
    "\n",
    "role = get_execution_role()\n",
    "\n",
    "data_dir = 'data'\n",
    "data_file_path = os.path.join(data_dir,'electricity.txt')\n",
    "\n",
    "test_bucket_prefix = '/test/'\n",
    "single_host_train_bucket_prefix = '/train/single_host/'"
   ]
  },
  {
   "cell_type": "code",
   "execution_count": 3,
   "metadata": {},
   "outputs": [
    {
     "name": "stdout",
     "output_type": "stream",
     "text": [
      "                0             1             2             3             4    \\\n",
      "count  26304.000000  26304.000000  26304.000000  26304.000000  26304.000000   \n",
      "mean      23.263762    112.885569     16.821624    440.335196    200.536724   \n",
      "std       24.127164     25.553141     49.190377    152.601050     69.727348   \n",
      "min        0.000000      0.000000      0.000000      0.000000      0.000000   \n",
      "25%        9.000000     95.000000      8.000000    334.750000    148.000000   \n",
      "50%       11.000000    113.000000      8.000000    400.000000    190.000000   \n",
      "75%       24.000000    130.000000     10.000000    511.000000    239.000000   \n",
      "max      140.000000    296.000000    601.000000   1170.000000    547.000000   \n",
      "\n",
      "                5             6             7             8             9    \\\n",
      "count  26304.000000  26304.000000  26304.000000  26304.000000  26304.000000   \n",
      "mean     755.035166     25.943659   1022.549270    214.867321    227.069267   \n",
      "std      249.598861     27.392344    231.480251     83.792517    102.182571   \n",
      "min        0.000000      0.000000      0.000000      0.000000      0.000000   \n",
      "25%      572.000000     13.000000    840.000000    157.000000    149.000000   \n",
      "50%      725.000000     16.000000   1015.000000    194.000000    204.000000   \n",
      "75%      881.000000     24.000000   1169.000000    253.000000    283.000000   \n",
      "max     1984.000000    178.000000   2102.000000    600.000000    752.000000   \n",
      "\n",
      "           ...                311           312            313           314  \\\n",
      "count      ...       26304.000000  26304.000000   26304.000000  26304.000000   \n",
      "mean       ...        2072.031592   1165.538853  200529.124848  10065.918491   \n",
      "std        ...        1211.430647    736.035668  146054.610575   6568.697998   \n",
      "min        ...           0.000000      0.000000       0.000000      0.000000   \n",
      "25%        ...         850.000000    452.000000   69300.000000   3639.000000   \n",
      "50%        ...        1962.500000   1278.000000  174000.000000   9361.000000   \n",
      "75%        ...        3019.000000   1726.000000  267725.000000  14719.250000   \n",
      "max        ...        5749.000000   3340.000000  764000.000000  28572.000000   \n",
      "\n",
      "                315           316           317           318           319  \\\n",
      "count  26304.000000  26304.000000  26304.000000  26304.000000  26304.000000   \n",
      "mean   15678.371236    350.702137     51.490344   2264.188641    507.008858   \n",
      "std     9738.020500    241.241444     37.228837    545.279372    267.445473   \n",
      "min        0.000000      0.000000      0.000000      0.000000      0.000000   \n",
      "25%     6456.000000     94.000000     27.000000   1999.000000    233.000000   \n",
      "50%    13866.000000    361.000000     37.000000   2319.000000    504.000000   \n",
      "75%    24706.000000    505.000000     57.000000   2607.000000    704.000000   \n",
      "max    39728.000000   1330.000000    205.000000   4449.000000   1369.000000   \n",
      "\n",
      "                320  \n",
      "count  26304.000000  \n",
      "mean    3335.883744  \n",
      "std      552.754335  \n",
      "min        0.000000  \n",
      "25%     2920.000000  \n",
      "50%     3271.000000  \n",
      "75%     3632.000000  \n",
      "max     6035.000000  \n",
      "\n",
      "[8 rows x 321 columns]\n",
      "                0             1             2             3             4    \\\n",
      "count  26304.000000  26304.000000  26304.000000  26304.000000  26304.000000   \n",
      "mean       0.166170      0.381370      0.027989      0.376355      0.366612   \n",
      "std        0.172337      0.086328      0.081848      0.130428      0.127472   \n",
      "min        0.000000      0.000000      0.000000      0.000000      0.000000   \n",
      "25%        0.064286      0.320946      0.013311      0.286111      0.270567   \n",
      "50%        0.078571      0.381757      0.013311      0.341880      0.347349   \n",
      "75%        0.171429      0.439189      0.016639      0.436752      0.436929   \n",
      "max        1.000000      1.000000      1.000000      1.000000      1.000000   \n",
      "\n",
      "                5             6             7             8             9    \\\n",
      "count  26304.000000  26304.000000  26304.000000  26304.000000  26304.000000   \n",
      "mean       0.380562      0.145751      0.486465      0.358112      0.301954   \n",
      "std        0.125806      0.153890      0.110124      0.139654      0.135881   \n",
      "min        0.000000      0.000000      0.000000      0.000000      0.000000   \n",
      "25%        0.288306      0.073034      0.399619      0.261667      0.198138   \n",
      "50%        0.365423      0.089888      0.482873      0.323333      0.271277   \n",
      "75%        0.444052      0.134831      0.556137      0.421667      0.376330   \n",
      "max        1.000000      1.000000      1.000000      1.000000      1.000000   \n",
      "\n",
      "           ...                311           312           313           314  \\\n",
      "count      ...       26304.000000  26304.000000  26304.000000  26304.000000   \n",
      "mean       ...           0.360416      0.348964      0.262473      0.352300   \n",
      "std        ...           0.210720      0.220370      0.191171      0.229900   \n",
      "min        ...           0.000000      0.000000      0.000000      0.000000   \n",
      "25%        ...           0.147852      0.135329      0.090707      0.127362   \n",
      "50%        ...           0.341364      0.382635      0.227749      0.327628   \n",
      "75%        ...           0.525135      0.516766      0.350425      0.515163   \n",
      "max        ...           1.000000      1.000000      1.000000      1.000000   \n",
      "\n",
      "                315           316           317           318           319  \\\n",
      "count  26304.000000  26304.000000  26304.000000  26304.000000  26304.000000   \n",
      "mean       0.394643      0.263686      0.251172      0.508921      0.370350   \n",
      "std        0.245117      0.181385      0.181604      0.122562      0.195358   \n",
      "min        0.000000      0.000000      0.000000      0.000000      0.000000   \n",
      "25%        0.162505      0.070677      0.131707      0.449314      0.170197   \n",
      "50%        0.349023      0.271429      0.180488      0.521241      0.368152   \n",
      "75%        0.621879      0.379699      0.278049      0.585974      0.514244   \n",
      "max        1.000000      1.000000      1.000000      1.000000      1.000000   \n",
      "\n",
      "                320  \n",
      "count  26304.000000  \n",
      "mean       0.552756  \n",
      "std        0.091591  \n",
      "min        0.000000  \n",
      "25%        0.483844  \n",
      "50%        0.542005  \n",
      "75%        0.601823  \n",
      "max        1.000000  \n",
      "\n",
      "[8 rows x 321 columns]\n"
     ]
    }
   ],
   "source": [
    "df = pd.read_csv(data_file_path,header=None)\n",
    "print(df.describe())\n",
    "max_columns = df.max().astype(np.float64)\n",
    "df = df/max_columns # normalize\n",
    "print(df.describe())"
   ]
  },
  {
   "cell_type": "code",
   "execution_count": 5,
   "metadata": {},
   "outputs": [
    {
     "name": "stdout",
     "output_type": "stream",
     "text": [
      "Training size 21043\n",
      "Test size 5261\n"
     ]
    }
   ],
   "source": [
    "train_frac = 0.8\n",
    "\n",
    "num_time_steps = len(df)\n",
    "split_index = int(num_time_steps*train_frac)\n",
    "train = df[0:split_index]\n",
    "print('Training size {}'.format(len(train)))\n",
    "test = df[split_index:]\n",
    "print('Test size {}'.format(len(test)))\n",
    "\n",
    "test_file_path = os.path.join(data_dir,'test.csv')\n",
    "test.to_csv(test_file_path,header=None,index=False)\n",
    "train_file_path = os.path.join(data_dir,'train.csv')\n",
    "train.to_csv(train_file_path,header=None,index=False)\n",
    "\n",
    "client = boto3.client('s3')\n",
    "client.upload_file(test_file_path, bucket, prefix + test_bucket_prefix + 'test.csv')\n",
    "client.upload_file(train_file_path, bucket, prefix + single_host_train_bucket_prefix + 'train.csv')"
   ]
  },
  {
   "cell_type": "code",
   "execution_count": 6,
   "metadata": {},
   "outputs": [],
   "source": [
    "hyperparameters = {\n",
    "    'conv_hid' : 100,\n",
    "    'gru_hid' : 100,\n",
    "    'skip_gru_hid' : 5,\n",
    "    'skip' : 24,\n",
    "    'ar_window' : 24,\n",
    "    'window' : 24*7,\n",
    "    'horizon' : 24,\n",
    "    'learning_rate' : 0.001,\n",
    "    'clip_gradient' : 10.,\n",
    "    'batch_size' : 64,\n",
    "    'batch_size' : 512,\n",
    "    'epochs' : 100\n",
    "}"
   ]
  },
  {
   "cell_type": "code",
   "execution_count": null,
   "metadata": {},
   "outputs": [],
   "source": [
    "lstnet1 = MXNet(entry_point='lstnet_sagemaker.py',\n",
    "    source_dir='src',\n",
    "    role=role,\n",
    "    output_path='s3://{}/{}/output'.format(bucket, prefix),\n",
    "    train_instance_count=1,\n",
    "    train_instance_type='ml.p2.xlarge',\n",
    "    hyperparameters=hyperparameters)\n",
    "lstnet1.fit(inputs={'train': 's3://{}/{}{}'.format(bucket, prefix, single_host_train_bucket_prefix),\n",
    "    'test': 's3://{}/{}{}'.format(bucket, prefix, test_bucket_prefix)},wait=False)"
   ]
  }
 ],
 "metadata": {
  "kernelspec": {
   "display_name": "Python 3",
   "language": "python",
   "name": "python3"
  },
  "language_info": {
   "codemirror_mode": {
    "name": "ipython",
    "version": 3
   },
   "file_extension": ".py",
   "mimetype": "text/x-python",
   "name": "python",
   "nbconvert_exporter": "python",
   "pygments_lexer": "ipython3",
   "version": "3.6.4"
  }
 },
 "nbformat": 4,
 "nbformat_minor": 2
}
