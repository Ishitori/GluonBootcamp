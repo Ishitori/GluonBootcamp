{
 "cells": [
  {
   "cell_type": "markdown",
   "metadata": {},
   "source": [
    "# Lab: Porting LSTNet to Amazon SageMaker\n",
    "\n",
    "In this lab the LSTNet model is ported to be trained using Amazon Sagemaker."
   ]
  },
  {
   "cell_type": "code",
   "execution_count": 1,
   "metadata": {},
   "outputs": [],
   "source": [
    "import boto3\n",
    "import os\n",
    "import pandas as pd\n",
    "import numpy as np\n",
    "from sagemaker.mxnet import MXNet\n",
    "from sagemaker import get_execution_role"
   ]
  },
  {
   "cell_type": "code",
   "execution_count": 2,
   "metadata": {},
   "outputs": [],
   "source": [
    "bucket = 'eduthie-sagemaker-1'\n",
    "prefix = 'lstnet'\n",
    "\n",
    "role = get_execution_role()\n",
    "\n",
    "data_dir = '../../data'\n",
    "data_file_path = os.path.join(data_dir,'electricity.txt')\n",
    "\n",
    "test_bucket_prefix = '/test/'\n",
    "single_host_train_bucket_prefix = '/train/single_host/'"
   ]
  },
  {
   "cell_type": "markdown",
   "metadata": {},
   "source": [
    "Load the electricity dataset from file and normalise between 0 and 1 by dividing each column by the max. There are 321 time series of electricity consumption with 26,304 data points in each. "
   ]
  },
  {
   "cell_type": "code",
   "execution_count": 3,
   "metadata": {},
   "outputs": [
    {
     "name": "stdout",
     "output_type": "stream",
     "text": [
      "(26304, 321)\n"
     ]
    }
   ],
   "source": [
    "df = pd.read_csv(data_file_path,header=None)\n",
    "max_columns = df.max().astype(np.float64)\n",
    "df = df/max_columns # normalize\n",
    "print(df.shape)"
   ]
  },
  {
   "cell_type": "markdown",
   "metadata": {},
   "source": [
    "Split into training and test datasets and upload to s3."
   ]
  },
  {
   "cell_type": "code",
   "execution_count": null,
   "metadata": {},
   "outputs": [],
   "source": [
    "train_frac = 0.8\n",
    "\n",
    "num_time_steps = len(df)\n",
    "split_index = int(num_time_steps*train_frac)\n",
    "train = df[0:split_index]\n",
    "print('Training size {}'.format(len(train)))\n",
    "test = df[split_index:]\n",
    "print('Test size {}'.format(len(test)))\n",
    "\n",
    "test_file_path = os.path.join(data_dir,'test.csv')\n",
    "test.to_csv(test_file_path,header=None,index=False)\n",
    "train_file_path = os.path.join(data_dir,'train.csv')\n",
    "train.to_csv(train_file_path,header=None,index=False)\n",
    "\n",
    "client = boto3.client('s3')\n",
    "client.upload_file(test_file_path, bucket, prefix + test_bucket_prefix + 'test.csv')\n",
    "client.upload_file(train_file_path, bucket, prefix + single_host_train_bucket_prefix + 'train.csv')"
   ]
  },
  {
   "cell_type": "markdown",
   "metadata": {},
   "source": [
    "Test locally first to make sure there are no bugs in the code."
   ]
  },
  {
   "cell_type": "code",
   "execution_count": 3,
   "metadata": {},
   "outputs": [
    {
     "name": "stdout",
     "output_type": "stream",
     "text": [
      "Train file path ../../data/test.csv\n",
      "Test file path ../../data/test.csv\n",
      "Loading file ../../data/test.csv\n",
      "Loading file ../../data/test.csv\n",
      "Is it a file True\n",
      "Data length 5261\n",
      "Loading file ../../data/test.csv\n",
      "Loading file ../../data/test.csv\n",
      "Is it a file True\n",
      "Data length 5261\n",
      "Running on [gpu(0)]\n",
      "Hosts ['alg-1']\n",
      "Current Host alg-1\n",
      "kvstore device\n",
      "Training Start\n",
      "Epoch 0: rmse 0.34164103617270786 time 4.5380 s\n",
      "Final rmse 0.3448484685116758\n",
      "Total training time: 8.391311883926392\n",
      "Training End\n",
      "None\n"
     ]
    }
   ],
   "source": [
    "from lstnet_sagemaker import train\n",
    "hyperparameters = {\n",
    "    'conv_hid' : 10,\n",
    "    'gru_hid' : 10,\n",
    "    'skip_gru_hid' : 2,\n",
    "    'skip' : 5,\n",
    "    'ar_window' : 6,\n",
    "    'window' : 24*7,\n",
    "    'horizon' : 24,\n",
    "    'learning_rate' : 0.01,\n",
    "    'clip_gradient' : 10.,\n",
    "    'batch_size' : 128,\n",
    "    'epochs' : 1\n",
    "}\n",
    "channel_input_dirs = {'train':data_dir,'test':data_dir}\n",
    "train(\n",
    "    hyperparameters = hyperparameters,\n",
    "    input_data_config = None,\n",
    "    channel_input_dirs = channel_input_dirs,\n",
    "    output_data_dir = os.path.join(data_dir,'output'),\n",
    "    model_dir = None,\n",
    "    num_gpus = 1,\n",
    "    num_cpus = 1,\n",
    "    hosts = ['alg-1'],\n",
    "    current_host = 'alg-1')"
   ]
  },
  {
   "cell_type": "markdown",
   "metadata": {},
   "source": [
    "Choose the hyperparameters"
   ]
  },
  {
   "cell_type": "code",
   "execution_count": null,
   "metadata": {},
   "outputs": [],
   "source": [
    "hyperparameters = {\n",
    "    'conv_hid' : 100,\n",
    "    'gru_hid' : 100,\n",
    "    'skip_gru_hid' : 5,\n",
    "    'skip' : 24,\n",
    "    'ar_window' : 24,\n",
    "    'window' : 24*7,\n",
    "    'horizon' : 24,\n",
    "    'learning_rate' : 0.001,\n",
    "    'clip_gradient' : 10.,\n",
    "    'batch_size' : 64,\n",
    "    'batch_size' : 512,\n",
    "    'epochs' : 100\n",
    "}"
   ]
  },
  {
   "cell_type": "code",
   "execution_count": null,
   "metadata": {},
   "outputs": [],
   "source": [
    "lstnet1 = MXNet(entry_point='lstnet_sagemaker.py',\n",
    "    source_dir='.',\n",
    "    role=role,\n",
    "    output_path='s3://{}/{}/output'.format(bucket, prefix),\n",
    "    train_instance_count=1,\n",
    "    train_instance_type='ml.p3.2xlarge',\n",
    "    hyperparameters=hyperparameters)\n",
    "lstnet1.fit(inputs={'train': 's3://{}/{}{}'.format(bucket, prefix, single_host_train_bucket_prefix),\n",
    "    'test': 's3://{}/{}{}'.format(bucket, prefix, test_bucket_prefix)},wait=False)"
   ]
  },
  {
   "cell_type": "code",
   "execution_count": null,
   "metadata": {},
   "outputs": [],
   "source": []
  }
 ],
 "metadata": {
  "kernelspec": {
   "display_name": "conda_mxnet_p36",
   "language": "python",
   "name": "conda_mxnet_p36"
  },
  "language_info": {
   "codemirror_mode": {
    "name": "ipython",
    "version": 3
   },
   "file_extension": ".py",
   "mimetype": "text/x-python",
   "name": "python",
   "nbconvert_exporter": "python",
   "pygments_lexer": "ipython3",
   "version": "3.6.4"
  }
 },
 "nbformat": 4,
 "nbformat_minor": 2
}
