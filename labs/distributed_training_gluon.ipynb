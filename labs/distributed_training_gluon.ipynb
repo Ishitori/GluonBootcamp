{
 "cells": [
  {
   "cell_type": "markdown",
   "metadata": {},
   "source": [
    "# Distributed Training with Gluon and SageMaker\n",
    "\n",
    "This lab demonstrates how to perform distributed training on multiple hosts using Gluon and SageMaker. There are two main steps:\n",
    "\n",
    "1. Choose the version of kvstore to use when creating the Gluon Trainer. It is either 'device_sync', 'device_asyc', or 'dist_device_sync'. See there refence (https://mxnet.incubator.apache.org/api/python/kvstore/kvstore.html#mxnet.kvstore.create) for details.\n",
    "2. Specify more than 1 instance when creating a SageMaker MXNet model."
   ]
  },
  {
   "cell_type": "code",
   "execution_count": null,
   "metadata": {},
   "outputs": [],
   "source": []
  }
 ],
 "metadata": {
  "kernelspec": {
   "display_name": "conda_mxnet_p36",
   "language": "python",
   "name": "conda_mxnet_p36"
  },
  "language_info": {
   "codemirror_mode": {
    "name": "ipython",
    "version": 3
   },
   "file_extension": ".py",
   "mimetype": "text/x-python",
   "name": "python",
   "nbconvert_exporter": "python",
   "pygments_lexer": "ipython3",
   "version": "3.6.4"
  }
 },
 "nbformat": 4,
 "nbformat_minor": 2
}
