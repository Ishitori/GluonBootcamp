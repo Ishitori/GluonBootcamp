{
 "cells": [
  {
   "cell_type": "markdown",
   "metadata": {},
   "source": [
    "# Stacked Bi-directional LSTMs in Gluon"
   ]
  },
  {
   "cell_type": "markdown",
   "metadata": {},
   "source": [
    "We'll build up to stacked bi-directional LSTM by starting with plain RNN and adding components one at a time."
   ]
  },
  {
   "cell_type": "markdown",
   "metadata": {},
   "source": [
    "1. RNN\n",
    "2. Stacked RNN\n",
    "3. Bi-directional RNN\n",
    "4. Stacked Bi-directional RNN\n",
    "5. LSTM\n",
    "6. Stacked Bi-directional LSTM"
   ]
  },
  {
   "cell_type": "markdown",
   "metadata": {},
   "source": [
    "## 1. RNN"
   ]
  },
  {
   "cell_type": "markdown",
   "metadata": {},
   "source": [
    "__Key Highlight__: Useful for sequential data."
   ]
  },
  {
   "cell_type": "markdown",
   "metadata": {},
   "source": [
    "__Architecture__:\n",
    "\n",
    "![png](./imgs/rnn.png)"
   ]
  },
  {
   "cell_type": "markdown",
   "metadata": {},
   "source": [
    "__Cell structure__:"
   ]
  },
  {
   "cell_type": "markdown",
   "metadata": {},
   "source": [
    "![png](./imgs/rnn_cell.png)"
   ]
  },
  {
   "cell_type": "markdown",
   "metadata": {},
   "source": [
    "### Code: initial hidden state set automatically"
   ]
  },
  {
   "cell_type": "code",
   "execution_count": 1,
   "metadata": {},
   "outputs": [],
   "source": [
    "import mxnet as mx"
   ]
  },
  {
   "cell_type": "code",
   "execution_count": 2,
   "metadata": {},
   "outputs": [
    {
     "data": {
      "text/plain": [
       "\n",
       "[[ 0.54881352  0.59284461  0.71518934]\n",
       " [ 0.84426576  0.60276335  0.85794562]\n",
       " [ 0.54488319  0.84725171  0.42365479]\n",
       " [ 0.62356371  0.64589411  0.38438171]\n",
       " [ 0.4375872   0.29753461  0.89177299]]\n",
       "<NDArray 5x3 @cpu(0)>"
      ]
     },
     "execution_count": 2,
     "metadata": {},
     "output_type": "execute_result"
    }
   ],
   "source": [
    "sequence_length = 4\n",
    "batch_size = 5\n",
    "channels = 3\n",
    "\n",
    "inputs = mx.nd.random.uniform(shape=(sequence_length, batch_size, channels))\n",
    "first_input = inputs[0]\n",
    "first_input"
   ]
  },
  {
   "cell_type": "code",
   "execution_count": 3,
   "metadata": {},
   "outputs": [],
   "source": [
    "hid_layers = 1\n",
    "hid_units = 6\n",
    "\n",
    "rnn = mx.gluon.rnn.RNN(hidden_size=hid_units, num_layers=hid_layers, layout='TNC')"
   ]
  },
  {
   "cell_type": "code",
   "execution_count": 4,
   "metadata": {},
   "outputs": [],
   "source": [
    "# lazy initialize weights\n",
    "rnn.initialize()"
   ]
  },
  {
   "cell_type": "code",
   "execution_count": 5,
   "metadata": {},
   "outputs": [],
   "source": [
    "# since not provided, will initialize hidden state to zeros of approprate shape\n",
    "outputs = rnn(inputs)"
   ]
  },
  {
   "cell_type": "code",
   "execution_count": 6,
   "metadata": {},
   "outputs": [
    {
     "data": {
      "text/plain": [
       "(4, 5, 6)"
      ]
     },
     "execution_count": 6,
     "metadata": {},
     "output_type": "execute_result"
    }
   ],
   "source": [
    "# for a plain rnn, output is the same as hidden state. get it for every time step.\n",
    "outputs.shape"
   ]
  },
  {
   "cell_type": "code",
   "execution_count": 7,
   "metadata": {},
   "outputs": [
    {
     "data": {
      "text/plain": [
       "\n",
       "[[ 0.          0.          0.05846469  0.00541316  0.          0.06052626]\n",
       " [ 0.          0.          0.06059704  0.          0.          0.02954475]\n",
       " [ 0.          0.          0.03816931  0.04454039  0.          0.04824264]\n",
       " [ 0.          0.          0.04717389  0.0336915   0.          0.08854606]\n",
       " [ 0.          0.          0.04403492  0.          0.          0.0222607 ]]\n",
       "<NDArray 5x6 @cpu(0)>"
      ]
     },
     "execution_count": 7,
     "metadata": {},
     "output_type": "execute_result"
    }
   ],
   "source": [
    "final_output = outputs[-1]\n",
    "final_output"
   ]
  },
  {
   "cell_type": "markdown",
   "metadata": {},
   "source": [
    "### Code: initial hidden state set manually"
   ]
  },
  {
   "cell_type": "code",
   "execution_count": 8,
   "metadata": {},
   "outputs": [],
   "source": [
    "hid_init = mx.nd.random.uniform(shape=(hid_layers, batch_size, hid_units))"
   ]
  },
  {
   "cell_type": "code",
   "execution_count": 9,
   "metadata": {},
   "outputs": [],
   "source": [
    "# get tuple returned\n",
    "outputs, hid_states = rnn(inputs, hid_init)"
   ]
  },
  {
   "cell_type": "code",
   "execution_count": 10,
   "metadata": {},
   "outputs": [
    {
     "data": {
      "text/plain": [
       "(4, 5, 6)"
      ]
     },
     "execution_count": 10,
     "metadata": {},
     "output_type": "execute_result"
    }
   ],
   "source": [
    "outputs.shape"
   ]
  },
  {
   "cell_type": "code",
   "execution_count": 11,
   "metadata": {},
   "outputs": [
    {
     "data": {
      "text/plain": [
       "\n",
       "[[ 0.          0.          0.05847301  0.00541939  0.          0.06052965]\n",
       " [ 0.          0.          0.06059588  0.          0.          0.02955461]\n",
       " [ 0.          0.          0.03817132  0.04454382  0.          0.04825731]\n",
       " [ 0.          0.          0.04715472  0.03366784  0.          0.08856017]\n",
       " [ 0.          0.          0.04403805  0.          0.          0.02227229]]\n",
       "<NDArray 5x6 @cpu(0)>"
      ]
     },
     "execution_count": 11,
     "metadata": {},
     "output_type": "execute_result"
    }
   ],
   "source": [
    "final_output = outputs[-1]\n",
    "final_output"
   ]
  },
  {
   "cell_type": "code",
   "execution_count": 12,
   "metadata": {},
   "outputs": [
    {
     "data": {
      "text/plain": [
       "1"
      ]
     },
     "execution_count": 12,
     "metadata": {},
     "output_type": "execute_result"
    }
   ],
   "source": [
    "# single hidden state between blocks for plain rnn\n",
    "len(hid_states)"
   ]
  },
  {
   "cell_type": "code",
   "execution_count": 13,
   "metadata": {},
   "outputs": [
    {
     "data": {
      "text/plain": [
       "(1, 5, 6)"
      ]
     },
     "execution_count": 13,
     "metadata": {},
     "output_type": "execute_result"
    }
   ],
   "source": [
    "# only get for last time step\n",
    "hid_states[0].shape"
   ]
  },
  {
   "cell_type": "code",
   "execution_count": 14,
   "metadata": {},
   "outputs": [
    {
     "data": {
      "text/plain": [
       "\n",
       "[[[ 0.          0.          0.05847301  0.00541939  0.          0.06052965]\n",
       "  [ 0.          0.          0.06059588  0.          0.          0.02955461]\n",
       "  [ 0.          0.          0.03817132  0.04454382  0.          0.04825731]\n",
       "  [ 0.          0.          0.04715472  0.03366784  0.          0.08856017]\n",
       "  [ 0.          0.          0.04403805  0.          0.          0.02227229]]]\n",
       "<NDArray 1x5x6 @cpu(0)>"
      ]
     },
     "execution_count": 14,
     "metadata": {},
     "output_type": "execute_result"
    }
   ],
   "source": [
    "# same as final_output\n",
    "hid_states[0]"
   ]
  },
  {
   "cell_type": "markdown",
   "metadata": {},
   "source": [
    "# 2. Stacked RNN"
   ]
  },
  {
   "cell_type": "markdown",
   "metadata": {},
   "source": [
    "__Key Highlight__: Similiar to with CNNs, gives network a bias to learn hierarchical features."
   ]
  },
  {
   "cell_type": "markdown",
   "metadata": {},
   "source": [
    "__Architecture__:\n",
    "\n",
    "![png](./imgs/stacked_rnn.png)"
   ]
  },
  {
   "cell_type": "markdown",
   "metadata": {},
   "source": [
    "### Code:"
   ]
  },
  {
   "cell_type": "code",
   "execution_count": 15,
   "metadata": {},
   "outputs": [],
   "source": [
    "hid_layers = 2"
   ]
  },
  {
   "cell_type": "code",
   "execution_count": 16,
   "metadata": {},
   "outputs": [],
   "source": [
    "stack_rnn = mx.gluon.rnn.RNN(hidden_size=hid_units, num_layers=hid_layers, layout='TNC')\n",
    "stack_rnn.initialize()"
   ]
  },
  {
   "cell_type": "code",
   "execution_count": 17,
   "metadata": {},
   "outputs": [],
   "source": [
    "hid_init = mx.nd.random.uniform(shape=(hid_layers, batch_size, hid_units))\n",
    "outputs, hid_states = stack_rnn(inputs, hid_init)"
   ]
  },
  {
   "cell_type": "code",
   "execution_count": 18,
   "metadata": {},
   "outputs": [
    {
     "data": {
      "text/plain": [
       "(4, 5, 6)"
      ]
     },
     "execution_count": 18,
     "metadata": {},
     "output_type": "execute_result"
    }
   ],
   "source": [
    "# output unchanged by number of layers. once again, one per time step\n",
    "outputs.shape"
   ]
  },
  {
   "cell_type": "code",
   "execution_count": 19,
   "metadata": {},
   "outputs": [
    {
     "data": {
      "text/plain": [
       "\n",
       "[[ 0.00032953  0.          0.          0.0001187   0.00336502  0.00088951]\n",
       " [ 0.00117935  0.          0.          0.00132704  0.00411009  0.00090487]\n",
       " [ 0.          0.          0.00201352  0.          0.          0.00068501]\n",
       " [ 0.          0.00052974  0.00056825  0.          0.00165059  0.0006478 ]\n",
       " [ 0.00053742  0.          0.          0.00042893  0.00243434  0.00053949]]\n",
       "<NDArray 5x6 @cpu(0)>"
      ]
     },
     "execution_count": 19,
     "metadata": {},
     "output_type": "execute_result"
    }
   ],
   "source": [
    "final_output = outputs[-1]\n",
    "final_output"
   ]
  },
  {
   "cell_type": "code",
   "execution_count": 20,
   "metadata": {},
   "outputs": [
    {
     "data": {
      "text/plain": [
       "1"
      ]
     },
     "execution_count": 20,
     "metadata": {},
     "output_type": "execute_result"
    }
   ],
   "source": [
    "# single hidden state between blocks for plain rnn\n",
    "len(hid_states)"
   ]
  },
  {
   "cell_type": "code",
   "execution_count": 21,
   "metadata": {},
   "outputs": [
    {
     "data": {
      "text/plain": [
       "(2, 5, 6)"
      ]
     },
     "execution_count": 21,
     "metadata": {},
     "output_type": "execute_result"
    }
   ],
   "source": [
    "# but now have more hidden states (last step only)\n",
    "hid_states[0].shape"
   ]
  },
  {
   "cell_type": "code",
   "execution_count": 22,
   "metadata": {},
   "outputs": [
    {
     "data": {
      "text/plain": [
       "\n",
       "[[[ 0.01719323  0.          0.04016658  0.          0.00293834  0.        ]\n",
       "  [ 0.00459993  0.          0.0554641   0.          0.          0.00252433]\n",
       "  [ 0.03334777  0.          0.          0.          0.03723463  0.        ]\n",
       "  [ 0.03768054  0.          0.00740662  0.          0.00896394  0.        ]\n",
       "  [ 0.00599414  0.          0.03325973  0.          0.00166829  0.        ]]\n",
       "\n",
       " [[ 0.00032953  0.          0.          0.0001187   0.00336502  0.00088951]\n",
       "  [ 0.00117935  0.          0.          0.00132704  0.00411009  0.00090487]\n",
       "  [ 0.          0.          0.00201352  0.          0.          0.00068501]\n",
       "  [ 0.          0.00052974  0.00056825  0.          0.00165059  0.0006478 ]\n",
       "  [ 0.00053742  0.          0.          0.00042893  0.00243434  0.00053949]]]\n",
       "<NDArray 2x5x6 @cpu(0)>"
      ]
     },
     "execution_count": 22,
     "metadata": {},
     "output_type": "execute_result"
    }
   ],
   "source": [
    "# see last element is same as output (first is not part of output)\n",
    "hid_states[0]"
   ]
  },
  {
   "cell_type": "markdown",
   "metadata": {},
   "source": [
    "# 3. Bi-directional RNN"
   ]
  },
  {
   "cell_type": "markdown",
   "metadata": {},
   "source": [
    "__Key Highlight__: Uses context from after the target time step. Useful for word disambiguation, e.g. bank in \"I arrived at the bank after crossing the river.\""
   ]
  },
  {
   "cell_type": "markdown",
   "metadata": {},
   "source": [
    "__Architecture__:\n",
    "\n",
    "![png](./imgs/bidir_rnn.png)"
   ]
  },
  {
   "cell_type": "markdown",
   "metadata": {},
   "source": [
    "### Code:"
   ]
  },
  {
   "cell_type": "code",
   "execution_count": 23,
   "metadata": {},
   "outputs": [],
   "source": [
    "hid_layers = 1\n",
    "bidirectional = True"
   ]
  },
  {
   "cell_type": "code",
   "execution_count": 24,
   "metadata": {},
   "outputs": [],
   "source": [
    "bidir_rnn = mx.gluon.rnn.RNN(hidden_size=hid_units, num_layers=hid_layers, layout='TNC', bidirectional=bidirectional)\n",
    "bidir_rnn.initialize()"
   ]
  },
  {
   "cell_type": "code",
   "execution_count": 25,
   "metadata": {},
   "outputs": [],
   "source": [
    "# now hid_layers * 2, initial hidden states for forward and backward rnns.\n",
    "hid_init = mx.nd.random.uniform(shape=(hid_layers * 2, batch_size, hid_units))\n",
    "outputs, hid_states = bidir_rnn(inputs, hid_init)"
   ]
  },
  {
   "cell_type": "code",
   "execution_count": 26,
   "metadata": {},
   "outputs": [
    {
     "data": {
      "text/plain": [
       "(4, 5, 12)"
      ]
     },
     "execution_count": 26,
     "metadata": {},
     "output_type": "execute_result"
    }
   ],
   "source": [
    "# hid_units * 2 channels\n",
    "# 6 from forward rnn, 6 from backward rnn, concatenated to give 12\n",
    "outputs.shape"
   ]
  },
  {
   "cell_type": "code",
   "execution_count": 27,
   "metadata": {},
   "outputs": [
    {
     "data": {
      "text/plain": [
       "\n",
       "[[ 0.03306618  0.          0.          0.01881557  0.          0.01395486\n",
       "   0.08756178  0.10872964  0.          0.          0.033585    0.        ]\n",
       " [ 0.048029    0.          0.          0.00914372  0.          0.02871193\n",
       "   0.06199517  0.07162469  0.          0.          0.          0.        ]\n",
       " [ 0.          0.00359015  0.          0.02957996  0.          0.\n",
       "   0.06479818  0.11220244  0.          0.04297203  0.          0.        ]\n",
       " [ 0.01444994  0.          0.          0.03033896  0.          0.\n",
       "   0.09215644  0.12054929  0.          0.0029099   0.          0.        ]\n",
       " [ 0.02546354  0.          0.          0.0079287   0.          0.01829238\n",
       "   0.00309482  0.07393023  0.          0.00435505  0.          0.        ]]\n",
       "<NDArray 5x12 @cpu(0)>"
      ]
     },
     "execution_count": 27,
     "metadata": {},
     "output_type": "execute_result"
    }
   ],
   "source": [
    "final_output = outputs[-1]\n",
    "final_output"
   ]
  },
  {
   "cell_type": "code",
   "execution_count": 28,
   "metadata": {},
   "outputs": [
    {
     "data": {
      "text/plain": [
       "\n",
       "[[ 0.03306618  0.          0.          0.01881557  0.          0.01395486]\n",
       " [ 0.048029    0.          0.          0.00914372  0.          0.02871193]\n",
       " [ 0.          0.00359015  0.          0.02957996  0.          0.        ]\n",
       " [ 0.01444994  0.          0.          0.03033896  0.          0.        ]\n",
       " [ 0.02546354  0.          0.          0.0079287   0.          0.01829238]]\n",
       "<NDArray 5x6 @cpu(0)>"
      ]
     },
     "execution_count": 28,
     "metadata": {},
     "output_type": "execute_result"
    }
   ],
   "source": [
    "# from forward rnn\n",
    "final_output[:,:6]"
   ]
  },
  {
   "cell_type": "code",
   "execution_count": 29,
   "metadata": {},
   "outputs": [
    {
     "data": {
      "text/plain": [
       "1"
      ]
     },
     "execution_count": 29,
     "metadata": {},
     "output_type": "execute_result"
    }
   ],
   "source": [
    "# single hidden state between blocks for plain rnn\n",
    "len(hid_states)"
   ]
  },
  {
   "cell_type": "code",
   "execution_count": 30,
   "metadata": {},
   "outputs": [
    {
     "data": {
      "text/plain": [
       "\n",
       "[[[ 0.03306618  0.          0.          0.01881557  0.          0.01395486]\n",
       "  [ 0.048029    0.          0.          0.00914372  0.          0.02871193]\n",
       "  [ 0.          0.00359015  0.          0.02957996  0.          0.        ]\n",
       "  [ 0.01444994  0.          0.          0.03033896  0.          0.        ]\n",
       "  [ 0.02546354  0.          0.          0.0079287   0.          0.01829238]]\n",
       "\n",
       " [[ 0.00990705  0.          0.          0.00356794  0.00038061  0.        ]\n",
       "  [ 0.017914    0.          0.          0.01097212  0.          0.        ]\n",
       "  [ 0.03335207  0.0034983   0.          0.          0.02690046  0.        ]\n",
       "  [ 0.03339365  0.00497039  0.          0.00650766  0.0195522   0.        ]\n",
       "  [ 0.          0.          0.          0.00215904  0.          0.        ]]]\n",
       "<NDArray 2x5x6 @cpu(0)>"
      ]
     },
     "execution_count": 30,
     "metadata": {},
     "output_type": "execute_result"
    }
   ],
   "source": [
    "# forward rnn hidden, then backward rnn hidden\n",
    "# BUT from different time steps! orward rnn hidden from last time step, backward rnn hidden from first time step.\n",
    "# useful when feeding a decoder, otherwise backward rnn only seen 1 example by step n.\n",
    "hid_states[0]"
   ]
  },
  {
   "cell_type": "code",
   "execution_count": 31,
   "metadata": {},
   "outputs": [
    {
     "data": {
      "text/plain": [
       "\n",
       "[[ 0.03306618  0.          0.          0.01881557  0.          0.01395486]\n",
       " [ 0.048029    0.          0.          0.00914372  0.          0.02871193]\n",
       " [ 0.          0.00359015  0.          0.02957996  0.          0.        ]\n",
       " [ 0.01444994  0.          0.          0.03033896  0.          0.        ]\n",
       " [ 0.02546354  0.          0.          0.0079287   0.          0.01829238]]\n",
       "<NDArray 5x6 @cpu(0)>"
      ]
     },
     "execution_count": 31,
     "metadata": {},
     "output_type": "execute_result"
    }
   ],
   "source": [
    "# same as first 6 channels of output at last stage\n",
    "hid_states[0][0]"
   ]
  },
  {
   "cell_type": "code",
   "execution_count": 32,
   "metadata": {},
   "outputs": [
    {
     "data": {
      "text/plain": [
       "\n",
       "[[ 0.04293729  0.00472309  0.          0.093175    0.03674188  0.\n",
       "   0.00990705  0.          0.          0.00356794  0.00038061  0.        ]\n",
       " [ 0.01534651  0.          0.          0.08228499  0.          0.          0.017914\n",
       "   0.          0.          0.01097212  0.          0.        ]\n",
       " [ 0.04324071  0.          0.          0.06263764  0.          0.\n",
       "   0.03335207  0.0034983   0.          0.          0.02690046  0.        ]\n",
       " [ 0.09439567  0.          0.          0.11246054  0.03045148  0.\n",
       "   0.03339365  0.00497039  0.          0.00650766  0.0195522   0.        ]\n",
       " [ 0.05874584  0.0130488   0.          0.08687868  0.          0.02914192\n",
       "   0.          0.          0.          0.00215904  0.          0.        ]]\n",
       "<NDArray 5x12 @cpu(0)>"
      ]
     },
     "execution_count": 32,
     "metadata": {},
     "output_type": "execute_result"
    }
   ],
   "source": [
    "first_output = outputs[0]\n",
    "first_output"
   ]
  },
  {
   "cell_type": "code",
   "execution_count": 33,
   "metadata": {},
   "outputs": [
    {
     "data": {
      "text/plain": [
       "\n",
       "[[ 0.00990705  0.          0.          0.00356794  0.00038061  0.        ]\n",
       " [ 0.017914    0.          0.          0.01097212  0.          0.        ]\n",
       " [ 0.03335207  0.0034983   0.          0.          0.02690046  0.        ]\n",
       " [ 0.03339365  0.00497039  0.          0.00650766  0.0195522   0.        ]\n",
       " [ 0.          0.          0.          0.00215904  0.          0.        ]]\n",
       "<NDArray 5x6 @cpu(0)>"
      ]
     },
     "execution_count": 33,
     "metadata": {},
     "output_type": "execute_result"
    }
   ],
   "source": [
    "# from backward rnn\n",
    "first_output[:,6:]"
   ]
  },
  {
   "cell_type": "code",
   "execution_count": 34,
   "metadata": {},
   "outputs": [
    {
     "data": {
      "text/plain": [
       "\n",
       "[[ 0.00990705  0.          0.          0.00356794  0.00038061  0.        ]\n",
       " [ 0.017914    0.          0.          0.01097212  0.          0.        ]\n",
       " [ 0.03335207  0.0034983   0.          0.          0.02690046  0.        ]\n",
       " [ 0.03339365  0.00497039  0.          0.00650766  0.0195522   0.        ]\n",
       " [ 0.          0.          0.          0.00215904  0.          0.        ]]\n",
       "<NDArray 5x6 @cpu(0)>"
      ]
     },
     "execution_count": 34,
     "metadata": {},
     "output_type": "execute_result"
    }
   ],
   "source": [
    "# same as last 6 channels of output at first stage\n",
    "hid_states[0][1]"
   ]
  },
  {
   "cell_type": "markdown",
   "metadata": {},
   "source": [
    "## 4. Stacked Bi-directional RNN"
   ]
  },
  {
   "cell_type": "markdown",
   "metadata": {},
   "source": [
    "__Key Highlight__: Combines benefits of both bi-directional and stacked architectures."
   ]
  },
  {
   "cell_type": "markdown",
   "metadata": {},
   "source": [
    "__Architecture__:\n",
    "\n",
    "![png](./imgs/stacked_bidir_rnn.png)"
   ]
  },
  {
   "cell_type": "markdown",
   "metadata": {},
   "source": [
    "### Code:"
   ]
  },
  {
   "cell_type": "code",
   "execution_count": 35,
   "metadata": {},
   "outputs": [],
   "source": [
    "hid_layers = 2\n",
    "bidirectional = True"
   ]
  },
  {
   "cell_type": "code",
   "execution_count": 36,
   "metadata": {},
   "outputs": [],
   "source": [
    "stack_bidir_rnn = mx.gluon.rnn.RNN(hidden_size=hid_units, num_layers=hid_layers, layout='TNC', bidirectional=bidirectional)\n",
    "stack_bidir_rnn.initialize()"
   ]
  },
  {
   "cell_type": "code",
   "execution_count": 37,
   "metadata": {},
   "outputs": [],
   "source": [
    "hid_init = mx.nd.random.uniform(shape=(hid_layers*2, batch_size, hid_units))\n",
    "outputs, hid_states = stack_bidir_rnn(inputs, hid_init)"
   ]
  },
  {
   "cell_type": "code",
   "execution_count": 38,
   "metadata": {},
   "outputs": [
    {
     "data": {
      "text/plain": [
       "(4, 5, 12)"
      ]
     },
     "execution_count": 38,
     "metadata": {},
     "output_type": "execute_result"
    }
   ],
   "source": [
    "outputs.shape"
   ]
  },
  {
   "cell_type": "code",
   "execution_count": 39,
   "metadata": {},
   "outputs": [
    {
     "data": {
      "text/plain": [
       "\n",
       "[[ 0.          0.00340414  0.          0.          0.          0.          0.\n",
       "   0.0678948   0.          0.          0.          0.        ]\n",
       " [ 0.          0.00184004  0.00155006  0.          0.          0.00046548\n",
       "   0.          0.06100728  0.          0.          0.          0.        ]\n",
       " [ 0.          0.          0.          0.          0.          0.0005218\n",
       "   0.00525233  0.04932918  0.          0.02696682  0.00857441  0.        ]\n",
       " [ 0.          0.00673693  0.00124999  0.          0.          0.          0.\n",
       "   0.05505137  0.01279329  0.          0.          0.        ]\n",
       " [ 0.          0.          0.          0.          0.0008792   0.00357696\n",
       "   0.          0.06191452  0.          0.          0.          0.        ]]\n",
       "<NDArray 5x12 @cpu(0)>"
      ]
     },
     "execution_count": 39,
     "metadata": {},
     "output_type": "execute_result"
    }
   ],
   "source": [
    "# combined across channels\n",
    "final_output = outputs[-1]\n",
    "final_output"
   ]
  },
  {
   "cell_type": "code",
   "execution_count": 40,
   "metadata": {},
   "outputs": [
    {
     "data": {
      "text/plain": [
       "1"
      ]
     },
     "execution_count": 40,
     "metadata": {},
     "output_type": "execute_result"
    }
   ],
   "source": [
    "len(hid_states)"
   ]
  },
  {
   "cell_type": "code",
   "execution_count": 41,
   "metadata": {},
   "outputs": [
    {
     "data": {
      "text/plain": [
       "(4, 5, 6)"
      ]
     },
     "execution_count": 41,
     "metadata": {},
     "output_type": "execute_result"
    }
   ],
   "source": [
    "hid_states[0].shape"
   ]
  },
  {
   "cell_type": "code",
   "execution_count": 42,
   "metadata": {},
   "outputs": [
    {
     "data": {
      "text/plain": [
       "\n",
       "[[[ 0.          0.04177246  0.00640563  0.          0.00357663  0.00187468]\n",
       "  [ 0.          0.03488374  0.03214718  0.          0.          0.01249963]\n",
       "  [ 0.          0.0441696   0.          0.00472266  0.          0.        ]\n",
       "  [ 0.          0.04262898  0.          0.          0.03667838  0.        ]\n",
       "  [ 0.          0.02875579  0.01502049  0.          0.          0.        ]]\n",
       "\n",
       " [[ 0.          0.          0.          0.05959253  0.02493385  0.        ]\n",
       "  [ 0.          0.          0.          0.06292737  0.0198511   0.        ]\n",
       "  [ 0.          0.          0.01365896  0.06428619  0.01114913  0.        ]\n",
       "  [ 0.          0.          0.00332693  0.0522363   0.00303377  0.        ]\n",
       "  [ 0.          0.          0.          0.04257718  0.03644982  0.        ]]\n",
       "\n",
       " [[ 0.          0.00340414  0.          0.          0.          0.        ]\n",
       "  [ 0.          0.00184004  0.00155006  0.          0.          0.00046548]\n",
       "  [ 0.          0.          0.          0.          0.          0.0005218 ]\n",
       "  [ 0.          0.00673693  0.00124999  0.          0.          0.        ]\n",
       "  [ 0.          0.          0.          0.          0.0008792   0.00357696]]\n",
       "\n",
       " [[ 0.00178251  0.00076139  0.          0.0042411   0.00419507  0.        ]\n",
       "  [ 0.00173295  0.00198956  0.          0.00422992  0.00403664  0.        ]\n",
       "  [ 0.00141883  0.00624871  0.          0.00565925  0.00630214  0.        ]\n",
       "  [ 0.00146779  0.0065      0.          0.00685085  0.00635008  0.        ]\n",
       "  [ 0.00196513  0.00287359  0.          0.00624004  0.00747287  0.        ]]]\n",
       "<NDArray 4x5x6 @cpu(0)>"
      ]
     },
     "execution_count": 42,
     "metadata": {},
     "output_type": "execute_result"
    }
   ],
   "source": [
    "# combined forward and backward, then across stack, e.g.\n",
    "# [ L1_forward\n",
    "#   L1_backward,\n",
    "#   L2_forward,\n",
    "#   L2_backward ]\n",
    "hid_states[0]"
   ]
  },
  {
   "cell_type": "code",
   "execution_count": 43,
   "metadata": {},
   "outputs": [
    {
     "data": {
      "text/plain": [
       "\n",
       "[[ 0.          0.00340414  0.          0.          0.          0.        ]\n",
       " [ 0.          0.00184004  0.00155006  0.          0.          0.00046548]\n",
       " [ 0.          0.          0.          0.          0.          0.0005218 ]\n",
       " [ 0.          0.00673693  0.00124999  0.          0.          0.        ]\n",
       " [ 0.          0.          0.          0.          0.0008792   0.00357696]]\n",
       "<NDArray 5x6 @cpu(0)>"
      ]
     },
     "execution_count": 43,
     "metadata": {},
     "output_type": "execute_result"
    }
   ],
   "source": [
    "# output from final step of final layer forward rnn\n",
    "final_output[:,:6]"
   ]
  },
  {
   "cell_type": "code",
   "execution_count": 44,
   "metadata": {},
   "outputs": [
    {
     "data": {
      "text/plain": [
       "\n",
       "[[ 0.          0.00340414  0.          0.          0.          0.        ]\n",
       " [ 0.          0.00184004  0.00155006  0.          0.          0.00046548]\n",
       " [ 0.          0.          0.          0.          0.          0.0005218 ]\n",
       " [ 0.          0.00673693  0.00124999  0.          0.          0.        ]\n",
       " [ 0.          0.          0.          0.          0.0008792   0.00357696]]\n",
       "<NDArray 5x6 @cpu(0)>"
      ]
     },
     "execution_count": 44,
     "metadata": {},
     "output_type": "execute_result"
    }
   ],
   "source": [
    "# take last layer of stack (last 2), then first to get forward rnn\n",
    "hid_states[0][-2:][0]"
   ]
  },
  {
   "cell_type": "code",
   "execution_count": 45,
   "metadata": {},
   "outputs": [
    {
     "data": {
      "text/plain": [
       "\n",
       "[[ 0.00178251  0.00076139  0.          0.0042411   0.00419507  0.        ]\n",
       " [ 0.00173295  0.00198956  0.          0.00422992  0.00403664  0.        ]\n",
       " [ 0.00141883  0.00624871  0.          0.00565925  0.00630214  0.        ]\n",
       " [ 0.00146779  0.0065      0.          0.00685085  0.00635008  0.        ]\n",
       " [ 0.00196513  0.00287359  0.          0.00624004  0.00747287  0.        ]]\n",
       "<NDArray 5x6 @cpu(0)>"
      ]
     },
     "execution_count": 45,
     "metadata": {},
     "output_type": "execute_result"
    }
   ],
   "source": [
    "# combined across channels\n",
    "first_output = outputs[0]\n",
    "# just take last 6 channels (i.e. from backward rnn)\n",
    "first_output[:,6:]"
   ]
  },
  {
   "cell_type": "code",
   "execution_count": 46,
   "metadata": {},
   "outputs": [
    {
     "data": {
      "text/plain": [
       "\n",
       "[[ 0.00178251  0.00076139  0.          0.0042411   0.00419507  0.        ]\n",
       " [ 0.00173295  0.00198956  0.          0.00422992  0.00403664  0.        ]\n",
       " [ 0.00141883  0.00624871  0.          0.00565925  0.00630214  0.        ]\n",
       " [ 0.00146779  0.0065      0.          0.00685085  0.00635008  0.        ]\n",
       " [ 0.00196513  0.00287359  0.          0.00624004  0.00747287  0.        ]]\n",
       "<NDArray 5x6 @cpu(0)>"
      ]
     },
     "execution_count": 46,
     "metadata": {},
     "output_type": "execute_result"
    }
   ],
   "source": [
    "# take last layer of stack (last 2), then last to get backward rnn\n",
    "hid_states[0][-2:][1]"
   ]
  },
  {
   "cell_type": "markdown",
   "metadata": {},
   "source": [
    "# 5. LSTM"
   ]
  },
  {
   "cell_type": "markdown",
   "metadata": {},
   "source": [
    "__Key Highlight__: Can model longer term dependencies by improving the gradient flow through the network compared to plain RNN."
   ]
  },
  {
   "cell_type": "markdown",
   "metadata": {},
   "source": [
    "__Architecture__:\n",
    "\n",
    "![png](./imgs/lstm.png)"
   ]
  },
  {
   "cell_type": "markdown",
   "metadata": {},
   "source": [
    "__Cell structure__:\n",
    "\n",
    "![png](http://colah.github.io/posts/2015-08-Understanding-LSTMs/img/LSTM3-chain.png)"
   ]
  },
  {
   "cell_type": "markdown",
   "metadata": {},
   "source": [
    "### Code:"
   ]
  },
  {
   "cell_type": "code",
   "execution_count": 47,
   "metadata": {},
   "outputs": [],
   "source": [
    "hid_layers = 1"
   ]
  },
  {
   "cell_type": "code",
   "execution_count": 48,
   "metadata": {},
   "outputs": [],
   "source": [
    "lstm = mx.gluon.rnn.LSTM(hidden_size=hid_units, num_layers=hid_layers, layout='TNC')\n",
    "lstm.initialize()"
   ]
  },
  {
   "cell_type": "code",
   "execution_count": 49,
   "metadata": {},
   "outputs": [],
   "source": [
    "hid_init_h = mx.nd.random.uniform(shape=(hid_layers, batch_size, hid_units))\n",
    "hid_init_c = mx.nd.random.uniform(shape=(hid_layers, batch_size, hid_units))\n",
    "hid_init = [hid_init_h, hid_init_c]\n",
    "outputs, hid_states = lstm(inputs, hid_init)"
   ]
  },
  {
   "cell_type": "code",
   "execution_count": 50,
   "metadata": {},
   "outputs": [
    {
     "data": {
      "text/plain": [
       "(4, 5, 6)"
      ]
     },
     "execution_count": 50,
     "metadata": {},
     "output_type": "execute_result"
    }
   ],
   "source": [
    "# output same as before\n",
    "outputs.shape"
   ]
  },
  {
   "cell_type": "code",
   "execution_count": 51,
   "metadata": {},
   "outputs": [
    {
     "data": {
      "text/plain": [
       "\n",
       "[[ 0.02818945 -0.00174565  0.0353965   0.02620278  0.05123272 -0.01795965]\n",
       " [ 0.06393548 -0.00062626  0.0545639   0.02543391  0.05355247  0.00545943]\n",
       " [ 0.02012122 -0.01744675  0.04486242  0.01139896  0.03076872 -0.00235225]\n",
       " [ 0.01636864 -0.01138998  0.06073249  0.02126804  0.04514049 -0.02028175]\n",
       " [ 0.03729322 -0.00312254  0.01692082  0.03198263  0.04617801 -0.01311093]]\n",
       "<NDArray 5x6 @cpu(0)>"
      ]
     },
     "execution_count": 51,
     "metadata": {},
     "output_type": "execute_result"
    }
   ],
   "source": [
    "final_output = outputs[-1]\n",
    "final_output"
   ]
  },
  {
   "cell_type": "code",
   "execution_count": 52,
   "metadata": {},
   "outputs": [
    {
     "data": {
      "text/plain": [
       "2"
      ]
     },
     "execution_count": 52,
     "metadata": {},
     "output_type": "execute_result"
    }
   ],
   "source": [
    "# now have two cell memory and hidden state\n",
    "len(hid_states)"
   ]
  },
  {
   "cell_type": "code",
   "execution_count": 53,
   "metadata": {},
   "outputs": [
    {
     "data": {
      "text/plain": [
       "(1, 5, 6)"
      ]
     },
     "execution_count": 53,
     "metadata": {},
     "output_type": "execute_result"
    }
   ],
   "source": [
    "# hidden state (bottom line in diagram)\n",
    "hid_states[0].shape"
   ]
  },
  {
   "cell_type": "code",
   "execution_count": 54,
   "metadata": {},
   "outputs": [
    {
     "data": {
      "text/plain": [
       "(1, 5, 6)"
      ]
     },
     "execution_count": 54,
     "metadata": {},
     "output_type": "execute_result"
    }
   ],
   "source": [
    "# cell memory (top line in diagram)\n",
    "hid_states[1].shape"
   ]
  },
  {
   "cell_type": "code",
   "execution_count": 55,
   "metadata": {},
   "outputs": [
    {
     "data": {
      "text/plain": [
       "\n",
       "[[[ 0.02818945 -0.00174565  0.0353965   0.02620278  0.05123272 -0.01795965]\n",
       "  [ 0.06393548 -0.00062626  0.0545639   0.02543391  0.05355247  0.00545943]\n",
       "  [ 0.02012122 -0.01744675  0.04486242  0.01139896  0.03076872 -0.00235225]\n",
       "  [ 0.01636864 -0.01138998  0.06073249  0.02126804  0.04514049 -0.02028175]\n",
       "  [ 0.03729322 -0.00312254  0.01692082  0.03198263  0.04617801 -0.01311093]]]\n",
       "<NDArray 1x5x6 @cpu(0)>"
      ]
     },
     "execution_count": 55,
     "metadata": {},
     "output_type": "execute_result"
    }
   ],
   "source": [
    "# same as the output for uni-directional and non-stacked case\n",
    "hid_states[0]"
   ]
  },
  {
   "cell_type": "markdown",
   "metadata": {},
   "source": [
    "# Stacked Bi-directional LSTM"
   ]
  },
  {
   "cell_type": "markdown",
   "metadata": {},
   "source": [
    "__Key Highlight__: Combines benefits of all of the above."
   ]
  },
  {
   "cell_type": "markdown",
   "metadata": {},
   "source": [
    "__Architecture__:\n",
    "\n",
    "![png](./imgs/stacked_bidir_lstm.png)"
   ]
  },
  {
   "cell_type": "markdown",
   "metadata": {},
   "source": [
    "### Code:"
   ]
  },
  {
   "cell_type": "code",
   "execution_count": 56,
   "metadata": {},
   "outputs": [],
   "source": [
    "hid_layers = 2\n",
    "bidirectional = True"
   ]
  },
  {
   "cell_type": "code",
   "execution_count": 57,
   "metadata": {},
   "outputs": [],
   "source": [
    "stack_bidir_lstm = mx.gluon.rnn.LSTM(hidden_size=hid_units, num_layers=hid_layers, layout='TNC', bidirectional=bidirectional)\n",
    "stack_bidir_lstm.initialize()"
   ]
  },
  {
   "cell_type": "code",
   "execution_count": 58,
   "metadata": {},
   "outputs": [],
   "source": [
    "# 2 * hid_layers (since bi-directional)\n",
    "hid_init_h = mx.nd.random.uniform(shape=(2*hid_layers, batch_size, hid_units))\n",
    "hid_init_c = mx.nd.random.uniform(shape=(2*hid_layers, batch_size, hid_units))\n",
    "hid_init = [hid_init_h, hid_init_c]\n",
    "outputs, hid_states = stack_bidir_lstm(inputs, hid_init)"
   ]
  },
  {
   "cell_type": "code",
   "execution_count": 59,
   "metadata": {},
   "outputs": [
    {
     "data": {
      "text/plain": [
       "(4, 5, 12)"
      ]
     },
     "execution_count": 59,
     "metadata": {},
     "output_type": "execute_result"
    }
   ],
   "source": [
    "# 2 * hid_units = 12 channels since bi-directional\n",
    "outputs.shape"
   ]
  },
  {
   "cell_type": "code",
   "execution_count": 60,
   "metadata": {},
   "outputs": [
    {
     "data": {
      "text/plain": [
       "\n",
       "[[ 0.01808946  0.01239023  0.0103579   0.01382891  0.01011395  0.01383706\n",
       "   0.05322991  0.20940049  0.13968816  0.20491761  0.0427212   0.02207958]\n",
       " [ 0.00300297  0.03423487  0.00675577  0.00692867  0.00228254 -0.00037972\n",
       "   0.22739001  0.12007983  0.20540595  0.12325918  0.0146258   0.01974423]\n",
       " [ 0.03124169  0.01193716  0.00384586  0.0038484   0.02315953  0.02376991\n",
       "   0.02031938  0.11076675  0.04595628  0.11646104  0.08167178  0.0644596 ]\n",
       " [ 0.02482849  0.00937077  0.02301528  0.0109503   0.01892785  0.00229548\n",
       "   0.19356498 -0.00137174  0.05321001  0.14383923  0.03294018  0.13848269]\n",
       " [ 0.00288578  0.02821913  0.01003075  0.00847331  0.00936431  0.00660857\n",
       "   0.20524111  0.02009414  0.0965727   0.04825414  0.10043189  0.1384041 ]]\n",
       "<NDArray 5x12 @cpu(0)>"
      ]
     },
     "execution_count": 60,
     "metadata": {},
     "output_type": "execute_result"
    }
   ],
   "source": [
    "final_output = outputs[-1]\n",
    "final_output"
   ]
  },
  {
   "cell_type": "code",
   "execution_count": 61,
   "metadata": {},
   "outputs": [
    {
     "data": {
      "text/plain": [
       "\n",
       "[[ 0.01808946  0.01239023  0.0103579   0.01382891  0.01011395  0.01383706]\n",
       " [ 0.00300297  0.03423487  0.00675577  0.00692867  0.00228254 -0.00037972]\n",
       " [ 0.03124169  0.01193716  0.00384586  0.0038484   0.02315953  0.02376991]\n",
       " [ 0.02482849  0.00937077  0.02301528  0.0109503   0.01892785  0.00229548]\n",
       " [ 0.00288578  0.02821913  0.01003075  0.00847331  0.00936431  0.00660857]]\n",
       "<NDArray 5x6 @cpu(0)>"
      ]
     },
     "execution_count": 61,
     "metadata": {},
     "output_type": "execute_result"
    }
   ],
   "source": [
    "# channels from forward rnn in last step of last layer\n",
    "final_output[:,:6]"
   ]
  },
  {
   "cell_type": "code",
   "execution_count": 62,
   "metadata": {},
   "outputs": [
    {
     "data": {
      "text/plain": [
       "\n",
       "[[ 0.05322991  0.20940049  0.13968816  0.20491761  0.0427212   0.02207958]\n",
       " [ 0.22739001  0.12007983  0.20540595  0.12325918  0.0146258   0.01974423]\n",
       " [ 0.02031938  0.11076675  0.04595628  0.11646104  0.08167178  0.0644596 ]\n",
       " [ 0.19356498 -0.00137174  0.05321001  0.14383923  0.03294018  0.13848269]\n",
       " [ 0.20524111  0.02009414  0.0965727   0.04825414  0.10043189  0.1384041 ]]\n",
       "<NDArray 5x6 @cpu(0)>"
      ]
     },
     "execution_count": 62,
     "metadata": {},
     "output_type": "execute_result"
    }
   ],
   "source": [
    "# channels from backward rnn in last step of last layer\n",
    "final_output[:,6:]"
   ]
  },
  {
   "cell_type": "code",
   "execution_count": 63,
   "metadata": {},
   "outputs": [
    {
     "data": {
      "text/plain": [
       "2"
      ]
     },
     "execution_count": 63,
     "metadata": {},
     "output_type": "execute_result"
    }
   ],
   "source": [
    "len(hid_states)"
   ]
  },
  {
   "cell_type": "code",
   "execution_count": 64,
   "metadata": {},
   "outputs": [
    {
     "data": {
      "text/plain": [
       "(4, 5, 6)"
      ]
     },
     "execution_count": 64,
     "metadata": {},
     "output_type": "execute_result"
    }
   ],
   "source": [
    "# hidden state\n",
    "hid_states[0].shape"
   ]
  },
  {
   "cell_type": "code",
   "execution_count": 65,
   "metadata": {},
   "outputs": [
    {
     "data": {
      "text/plain": [
       "(4, 5, 6)"
      ]
     },
     "execution_count": 65,
     "metadata": {},
     "output_type": "execute_result"
    }
   ],
   "source": [
    "# cell memeory\n",
    "hid_states[1].shape"
   ]
  },
  {
   "cell_type": "code",
   "execution_count": 66,
   "metadata": {},
   "outputs": [
    {
     "data": {
      "text/plain": [
       "\n",
       "[[[-0.00573625  0.01635285 -0.02341366  0.01629354 -0.007346    0.00576642]\n",
       "  [-0.0258479   0.0279543  -0.01818688  0.01051181  0.00762592  0.00853934]\n",
       "  [-0.02718913  0.05018575  0.00045197  0.00620968  0.01767808  0.0226628 ]\n",
       "  [-0.03281137  0.03153844 -0.01883352  0.00658052  0.0035225   0.01312432]\n",
       "  [-0.02891359  0.03498261  0.00373905  0.02421794  0.01074352  0.02088923]]\n",
       "\n",
       " [[ 0.04581511  0.01842473 -0.00113533  0.00648213  0.03211564  0.04415091]\n",
       "  [ 0.05429369  0.02530528 -0.00710067  0.00181396  0.0426653   0.0440751 ]\n",
       "  [ 0.03427977  0.01568622  0.01466715 -0.00038432  0.03445853  0.03436213]\n",
       "  [ 0.04928001  0.00462648  0.01272476  0.01015491  0.05328795  0.0181508 ]\n",
       "  [ 0.06135751  0.02007606 -0.00972339  0.00779354  0.0557798   0.04123558]]\n",
       "\n",
       " [[ 0.01808946  0.01239023  0.0103579   0.01382891  0.01011395  0.01383706]\n",
       "  [ 0.00300297  0.03423487  0.00675577  0.00692867  0.00228254 -0.00037972]\n",
       "  [ 0.03124169  0.01193716  0.00384586  0.0038484   0.02315953  0.02376991]\n",
       "  [ 0.02482849  0.00937077  0.02301528  0.0109503   0.01892785  0.00229548]\n",
       "  [ 0.00288578  0.02821913  0.01003075  0.00847331  0.00936431  0.00660857]]\n",
       "\n",
       " [[ 0.00597848  0.02032363  0.0162298   0.02846791 -0.00140417  0.00011918]\n",
       "  [ 0.03173025  0.01013287  0.0296511   0.01767016 -0.00850117  0.00216344]\n",
       "  [-0.00092769  0.00986358  0.01041535  0.0182292  -0.00065306  0.00980295]\n",
       "  [ 0.02115385 -0.00392883  0.01181151  0.01550466 -0.00492908  0.01831324]\n",
       "  [ 0.02123432 -0.00080698  0.01856145  0.00723932 -0.00111104  0.02135266]]]\n",
       "<NDArray 4x5x6 @cpu(0)>"
      ]
     },
     "execution_count": 66,
     "metadata": {},
     "output_type": "execute_result"
    }
   ],
   "source": [
    "hid_states[0]"
   ]
  },
  {
   "cell_type": "code",
   "execution_count": 67,
   "metadata": {},
   "outputs": [],
   "source": [
    "# take last two rows since bi-dir\n",
    "hid_last = hid_states[0][-2:,:]"
   ]
  },
  {
   "cell_type": "code",
   "execution_count": 68,
   "metadata": {},
   "outputs": [],
   "source": [
    "# first of row pair, to get forward\n",
    "hid_last_forward = hid_last[0]"
   ]
  },
  {
   "cell_type": "code",
   "execution_count": 69,
   "metadata": {},
   "outputs": [
    {
     "data": {
      "text/plain": [
       "\n",
       "[[ 0.01808946  0.01239023  0.0103579   0.01382891  0.01011395  0.01383706]\n",
       " [ 0.00300297  0.03423487  0.00675577  0.00692867  0.00228254 -0.00037972]\n",
       " [ 0.03124169  0.01193716  0.00384586  0.0038484   0.02315953  0.02376991]\n",
       " [ 0.02482849  0.00937077  0.02301528  0.0109503   0.01892785  0.00229548]\n",
       " [ 0.00288578  0.02821913  0.01003075  0.00847331  0.00936431  0.00660857]]\n",
       "<NDArray 5x6 @cpu(0)>"
      ]
     },
     "execution_count": 69,
     "metadata": {},
     "output_type": "execute_result"
    }
   ],
   "source": [
    "# same as first 6 channels of last step output\n",
    "hid_last_forward"
   ]
  },
  {
   "cell_type": "code",
   "execution_count": 70,
   "metadata": {},
   "outputs": [],
   "source": [
    "first_output = outputs[0]"
   ]
  },
  {
   "cell_type": "code",
   "execution_count": 71,
   "metadata": {},
   "outputs": [
    {
     "data": {
      "text/plain": [
       "\n",
       "[[ 0.00597848  0.02032363  0.0162298   0.02846791 -0.00140417  0.00011918]\n",
       " [ 0.03173025  0.01013287  0.0296511   0.01767016 -0.00850117  0.00216344]\n",
       " [-0.00092769  0.00986358  0.01041535  0.0182292  -0.00065306  0.00980295]\n",
       " [ 0.02115385 -0.00392883  0.01181151  0.01550466 -0.00492908  0.01831324]\n",
       " [ 0.02123432 -0.00080698  0.01856145  0.00723932 -0.00111104  0.02135266]]\n",
       "<NDArray 5x6 @cpu(0)>"
      ]
     },
     "execution_count": 71,
     "metadata": {},
     "output_type": "execute_result"
    }
   ],
   "source": [
    "# last 6 channels of first step output\n",
    "first_output[:,6:]"
   ]
  },
  {
   "cell_type": "code",
   "execution_count": 72,
   "metadata": {},
   "outputs": [],
   "source": [
    "# second of row pair, to get backward\n",
    "hid_last_backward = hid_last[1]"
   ]
  },
  {
   "cell_type": "code",
   "execution_count": 73,
   "metadata": {},
   "outputs": [
    {
     "data": {
      "text/plain": [
       "\n",
       "[[ 0.00597848  0.02032363  0.0162298   0.02846791 -0.00140417  0.00011918]\n",
       " [ 0.03173025  0.01013287  0.0296511   0.01767016 -0.00850117  0.00216344]\n",
       " [-0.00092769  0.00986358  0.01041535  0.0182292  -0.00065306  0.00980295]\n",
       " [ 0.02115385 -0.00392883  0.01181151  0.01550466 -0.00492908  0.01831324]\n",
       " [ 0.02123432 -0.00080698  0.01856145  0.00723932 -0.00111104  0.02135266]]\n",
       "<NDArray 5x6 @cpu(0)>"
      ]
     },
     "execution_count": 73,
     "metadata": {},
     "output_type": "execute_result"
    }
   ],
   "source": [
    "hid_last_backward"
   ]
  }
 ],
 "metadata": {
  "kernelspec": {
   "display_name": "Environment (conda_mxnet_p36)",
   "language": "python",
   "name": "conda_mxnet_p36"
  },
  "language_info": {
   "codemirror_mode": {
    "name": "ipython",
    "version": 3
   },
   "file_extension": ".py",
   "mimetype": "text/x-python",
   "name": "python",
   "nbconvert_exporter": "python",
   "pygments_lexer": "ipython3",
   "version": "3.6.4"
  }
 },
 "nbformat": 4,
 "nbformat_minor": 2
}
