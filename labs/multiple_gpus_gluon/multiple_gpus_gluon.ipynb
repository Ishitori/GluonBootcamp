{
 "cells": [
  {
   "cell_type": "markdown",
   "metadata": {},
   "source": [
    "#  Lab: Training on multiple GPUs with `gluon`\n",
    "\n",
    "This lab demonstrates the concepts of how to split up the training of a model across multiple GPUs using Gluon. Dat a parallelism will be used where each batch is split into equal portions, a forward and backward pass is performed, and the gradients are summed and the parameters are updated. A complete copy of all the parameters is present on each GPU.\n",
    "\n",
    "This lab has been adapted from https://gluon.mxnet.io/chapter07_distributed-learning/multiple-gpus-gluon.html.\n",
    "\n",
    "This lab has been tested using a ml.p3.8xlarge SageMaker notebook instance. It requires an instance with multiple GPUs.\n",
    "\n",
    "The key steps are:\n",
    "\n",
    "* Choose “local“ or “device“ kvstore\n",
    "\n",
    "* Initialise the parameters and copy all of them to each GPU\n",
    "* Split up the batch into portions and copy each portion onto a GPU\n",
    "* Run forward and backward\n",
    "\n",
    "The following steps are run automatically by Gluon when parameters on multiple devices are detected:\n",
    "* Sum the gradients across all GPUs and broadcast to all GPUs\n",
    "* Update the weights\n",
    "\n",
    "Start by defining a simple convolutional neural network for image classification:"
   ]
  },
  {
   "cell_type": "code",
   "execution_count": 1,
   "metadata": {},
   "outputs": [],
   "source": [
    "import mxnet as mx\n",
    "from mxnet import nd, gluon, autograd\n",
    "from time import time\n",
    "net = gluon.nn.Sequential(prefix='cnn_')\n",
    "with net.name_scope():\n",
    "    net.add(gluon.nn.Conv2D(channels=20, kernel_size=3, activation='relu'))\n",
    "    net.add(gluon.nn.MaxPool2D(pool_size=(2,2), strides=(2,2)))\n",
    "    net.add(gluon.nn.Conv2D(channels=50, kernel_size=5, activation='relu'))\n",
    "    net.add(gluon.nn.MaxPool2D(pool_size=(2,2), strides=(2,2)))\n",
    "    net.add(gluon.nn.Flatten())\n",
    "    net.add(gluon.nn.Dense(128, activation=\"relu\"))\n",
    "    net.add(gluon.nn.Dense(10))\n",
    "    \n",
    "loss = gluon.loss.SoftmaxCrossEntropyLoss()"
   ]
  },
  {
   "cell_type": "code",
   "execution_count": 2,
   "metadata": {},
   "outputs": [],
   "source": [
    "class Profile:\n",
    "    \n",
    "    checkpoints = {}\n",
    "    \n",
    "    def __init__(self,silent=False):\n",
    "        self.silent = silent\n",
    "    \n",
    "    def start(self,event_name='default'):\n",
    "        self.checkpoints[event_name] = time()\n",
    "        return self\n",
    "        \n",
    "    def stop(self,event_name='default',print_out=True):\n",
    "        current_time = time()\n",
    "        checkpoint = self.checkpoints[event_name]\n",
    "        period_seconds = current_time - checkpoint\n",
    "        if print_out and not self.silent:\n",
    "            print('{} {:.4f} sec'.format(event_name,period_seconds))\n",
    "        return period_seconds"
   ]
  },
  {
   "cell_type": "markdown",
   "metadata": {},
   "source": [
    "## Initialize on multiple devices\n",
    "\n",
    "Gluon supports initialization of network parameters over multiple devices. This is done by passing in an array of device contexts, instead of a single context.\n",
    "When we pass in an array of contexts, the parameters are initialized \n",
    "to be identical across all of our devices."
   ]
  },
  {
   "cell_type": "code",
   "execution_count": 3,
   "metadata": {},
   "outputs": [],
   "source": [
    "GPU_COUNT = 2\n",
    "ctx = [mx.gpu(i) for i in range(GPU_COUNT)]\n",
    "net.collect_params().initialize(ctx=ctx,force_reinit=True)"
   ]
  },
  {
   "cell_type": "markdown",
   "metadata": {},
   "source": [
    "Each batch of input data is split into parts (one for each GPU) \n",
    "by calling `gluon.utils.split_and_load(batch, ctx)`.\n",
    "The `split_and_load` function also loads each part onto the appropriate device context. \n",
    "\n",
    "When the forward and backwards passes are computed later, this is executed on the device with the version of the parameters which have been stored there."
   ]
  },
  {
   "cell_type": "code",
   "execution_count": 4,
   "metadata": {},
   "outputs": [
    {
     "name": "stdout",
     "output_type": "stream",
     "text": [
      "\n",
      "[[-0.00481914  0.00191422  0.0207928  -0.01032626  0.01591926 -0.00201488\n",
      "  -0.00969938 -0.01089185 -0.00311436  0.00096904]\n",
      " [ 0.00226963 -0.00863828  0.01155043 -0.03112908  0.0468794  -0.01447409\n",
      "  -0.00345835 -0.01686898 -0.0088306  -0.00481959]]\n",
      "<NDArray 2x10 @gpu(0)>\n",
      "\n",
      "[[-0.01494185  0.00641098  0.02740018 -0.01331076  0.01718415 -0.02049804\n",
      "  -0.0095628  -0.0193483   0.0079064  -0.01144796]\n",
      " [-0.00765511  0.00055097  0.00661377 -0.01600864  0.02302845 -0.0043479\n",
      "  -0.01212487 -0.01363103  0.00415655 -0.00635323]]\n",
      "<NDArray 2x10 @gpu(1)>\n"
     ]
    }
   ],
   "source": [
    "from mxnet.test_utils import get_mnist\n",
    "\n",
    "mnist = get_mnist()\n",
    "batch = mnist['train_data'][0:GPU_COUNT*2, :]\n",
    "data = gluon.utils.split_and_load(batch, ctx)\n",
    "print(net(data[0]))\n",
    "print(net(data[1]))"
   ]
  },
  {
   "cell_type": "markdown",
   "metadata": {},
   "source": [
    "At any time, we can access the version of the parameters stored on each device. \n",
    "Recall from the first Chapter that our weights may not actually be initialized\n",
    "when we call `initialize` because the parameter shapes may not yet be known. \n",
    "In these cases, initialization is deferred pending shape inference. "
   ]
  },
  {
   "cell_type": "code",
   "execution_count": 5,
   "metadata": {
    "scrolled": true
   },
   "outputs": [
    {
     "name": "stdout",
     "output_type": "stream",
     "text": [
      "=== channel 0 of the first conv on gpu(0) ===\n",
      "[[[ 0.0068339   0.01299825  0.0301265 ]\n",
      "  [ 0.04819721  0.01438687  0.05011239]\n",
      "  [ 0.00628365  0.04861524 -0.01068833]]]\n",
      "<NDArray 1x3x3 @gpu(0)>\n",
      "=== channel 0 of the first conv on gpu(1) ===\n",
      "[[[ 0.0068339   0.01299825  0.0301265 ]\n",
      "  [ 0.04819721  0.01438687  0.05011239]\n",
      "  [ 0.00628365  0.04861524 -0.01068833]]]\n",
      "<NDArray 1x3x3 @gpu(1)>\n"
     ]
    }
   ],
   "source": [
    "weight = net.collect_params()['cnn_conv0_weight']\n",
    "\n",
    "for c in ctx:\n",
    "    print('=== channel 0 of the first conv on {} ==={}'.format(\n",
    "        c, weight.data(ctx=c)[0]))\n",
    "    "
   ]
  },
  {
   "cell_type": "markdown",
   "metadata": {},
   "source": [
    "Similarly, we can access the gradients on each of the GPUs. Because each GPU gets a different part of the batch (a different subset of examples), the gradients on each GPU vary. "
   ]
  },
  {
   "cell_type": "code",
   "execution_count": 6,
   "metadata": {
    "scrolled": true
   },
   "outputs": [
    {
     "name": "stdout",
     "output_type": "stream",
     "text": [
      "forward 0.0032 sec\n",
      "backward 0.0014 sec\n",
      "=== grad of channel 0 of the first conv2d on gpu(0) ===\n",
      "[[[ 0.01956055 -0.00624949 -0.01131491]\n",
      "  [ 0.00674033 -0.00630837 -0.00842709]\n",
      "  [ 0.02528841  0.00113929 -0.0189858 ]]]\n",
      "<NDArray 1x3x3 @gpu(0)>\n",
      "=== grad of channel 0 of the first conv2d on gpu(1) ===\n",
      "[[[-0.07402535 -0.06295478 -0.02819332]\n",
      "  [-0.08098993 -0.0621792  -0.01296096]\n",
      "  [-0.03471686 -0.02846123 -0.00763959]]]\n",
      "<NDArray 1x3x3 @gpu(1)>\n"
     ]
    }
   ],
   "source": [
    "def forward_backward(net, data, label, p):\n",
    "    with autograd.record():\n",
    "        p.start('forward')\n",
    "        losses = [loss(net(X), Y) for X, Y in zip(data, label)]\n",
    "        p.stop('forward')\n",
    "    p.start('backward')\n",
    "    for l in losses:\n",
    "        l.backward()\n",
    "    p.stop('backward')\n",
    "        \n",
    "label = gluon.utils.split_and_load(mnist['train_label'][0:4], ctx)\n",
    "forward_backward(net, data, label, Profile())\n",
    "for c in ctx:\n",
    "    print('=== grad of channel 0 of the first conv2d on {} ==={}'.format(\n",
    "        c, weight.grad(ctx=c)[0]))"
   ]
  },
  {
   "cell_type": "markdown",
   "metadata": {},
   "source": [
    "## Put all things together\n",
    "\n",
    "Now we can implement the remaining functions. Most of them are the same as [when we did everything by hand](./chapter07_distributed-learning/multiple-gpus-scratch.ipynb); one notable difference is that if a `gluon` trainer recognizes multi-devices, it will automatically aggregate the gradients and synchronize the parameters. "
   ]
  },
  {
   "cell_type": "code",
   "execution_count": 7,
   "metadata": {
    "scrolled": true
   },
   "outputs": [
    {
     "name": "stdout",
     "output_type": "stream",
     "text": [
      "Running on [gpu(0), gpu(1)]\n",
      "Batch size is 1024\n",
      "Epoch 0, training time = 1.5 sec\n",
      "         validation accuracy = 0.7913\n",
      "Epoch 1, training time = 1.0 sec\n",
      "         validation accuracy = 0.9471\n",
      "Epoch 2, training time = 1.0 sec\n",
      "         validation accuracy = 0.9623\n",
      "Epoch 3, training time = 1.0 sec\n",
      "         validation accuracy = 0.9702\n",
      "Epoch 4, training time = 1.0 sec\n",
      "         validation accuracy = 0.9753\n",
      "Running on [gpu(0)]\n",
      "Batch size is 512\n",
      "Epoch 0, training time = 1.9 sec\n",
      "         validation accuracy = 0.9262\n",
      "Epoch 1, training time = 1.9 sec\n",
      "         validation accuracy = 0.9612\n",
      "Epoch 2, training time = 1.9 sec\n",
      "         validation accuracy = 0.9729\n",
      "Epoch 3, training time = 1.9 sec\n",
      "         validation accuracy = 0.9776\n",
      "Epoch 4, training time = 1.9 sec\n",
      "         validation accuracy = 0.9809\n"
     ]
    }
   ],
   "source": [
    "from mxnet.io import NDArrayIter\n",
    "\n",
    "def train_batch(batch, ctx, net, trainer, p):\n",
    "    # split the data batch and load them on GPUs\n",
    "    p.start('split_and_load')\n",
    "    data = gluon.utils.split_and_load(batch.data[0], ctx)\n",
    "    label = gluon.utils.split_and_load(batch.label[0], ctx)\n",
    "    p.stop('split_and_load')\n",
    "    # compute gradient\n",
    "    p.start('forward_backward')\n",
    "    forward_backward(net, data, label, p)\n",
    "    p.stop('forward_backward')\n",
    "    # update parameters\n",
    "    p.start('update')\n",
    "    trainer.step(batch.data[0].shape[0])\n",
    "    p.stop('update')\n",
    "    \n",
    "def valid_batch(batch, ctx, net):\n",
    "    data = batch.data[0].as_in_context(ctx[0])\n",
    "    pred = nd.argmax(net(data), axis=1)\n",
    "    return nd.sum(pred == batch.label[0].as_in_context(ctx[0])).asscalar()    \n",
    "\n",
    "def run(num_gpus, batch_size, lr):    \n",
    "    \n",
    "    p = Profile(silent=True)\n",
    "    \n",
    "    # the list of GPUs will be used\n",
    "    ctx = [mx.gpu(i) for i in range(num_gpus)]\n",
    "    print('Running on {}'.format(ctx))\n",
    "    \n",
    "    # data iterator\n",
    "    mnist = get_mnist()\n",
    "    train_data = NDArrayIter(mnist[\"train_data\"], mnist[\"train_label\"], batch_size)\n",
    "    valid_data = NDArrayIter(mnist[\"test_data\"], mnist[\"test_label\"], batch_size)\n",
    "    print('Batch size is {}'.format(batch_size))\n",
    "    \n",
    "    net.collect_params().initialize(force_reinit=True, ctx=ctx)\n",
    "    # Here the kvstore can be set to 'local' where the gradients are summed and synced on the cpu\n",
    "    # or 'device' on the GPUs. If 'device' is selected mxnet uses GPU to GPU comms where possible.\n",
    "    trainer = gluon.Trainer(net.collect_params(), 'sgd', {'learning_rate': lr}, kvstore='local')\n",
    "    for epoch in range(5):\n",
    "        # train\n",
    "        p.start('epoch')\n",
    "        train_data.reset()\n",
    "        for batch in train_data:\n",
    "            train_batch(batch, ctx, net, trainer, p)\n",
    "        nd.waitall()  # wait until all computations are finished to benchmark the time\n",
    "        print('Epoch %d, training time = %.1f sec'%(epoch, p.stop('epoch',False)))\n",
    "        \n",
    "        # validating\n",
    "        valid_data.reset()\n",
    "        correct, num = 0.0, 0.0\n",
    "        for batch in valid_data:\n",
    "            correct += valid_batch(batch, ctx, net)\n",
    "            num += batch.data[0].shape[0]                \n",
    "        print('         validation accuracy = %.4f'%(correct/num))\n",
    "                \n",
    "run(GPU_COUNT, 512*GPU_COUNT, .3) # a larger batch size is used so each GPU has enough data \n",
    "run(1, 512, .3)"
   ]
  },
  {
   "cell_type": "markdown",
   "metadata": {},
   "source": [
    "## Conclusion\n",
    "\n",
    "We have successfully run multi-gpu training using gluon. Experiment with the GPU_COUNT and batch_size. Set silent = False when instantiating the Profile class to see times of each training step."
   ]
  },
  {
   "cell_type": "code",
   "execution_count": null,
   "metadata": {},
   "outputs": [],
   "source": []
  }
 ],
 "metadata": {
  "anaconda-cloud": {},
  "kernelspec": {
   "display_name": "conda_mxnet_p36",
   "language": "python",
   "name": "conda_mxnet_p36"
  },
  "language_info": {
   "codemirror_mode": {
    "name": "ipython",
    "version": 3
   },
   "file_extension": ".py",
   "mimetype": "text/x-python",
   "name": "python",
   "nbconvert_exporter": "python",
   "pygments_lexer": "ipython3",
   "version": "3.6.4"
  }
 },
 "nbformat": 4,
 "nbformat_minor": 2
}
