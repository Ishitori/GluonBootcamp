{
 "cells": [
  {
   "cell_type": "code",
   "execution_count": 33,
   "metadata": {},
   "outputs": [],
   "source": [
    "import gluonnlp as nlp\n",
    "import multiprocessing as mp\n",
    "import itertools\n",
    "import numpy as np\n",
    "from mxnet import gluon, autograd"
   ]
  },
  {
   "cell_type": "code",
   "execution_count": 34,
   "metadata": {},
   "outputs": [],
   "source": [
    "import json, os\n",
    "from mxnet.gluon.data import SimpleDataset\n",
    "from mxnet.gluon.utils import download, check_sha1, _get_repo_file_url\n",
    "from gluonnlp.data.registry import register\n",
    "''' \n",
    "When passing keyword arguments to `register`, they are checked to be valid keyword arguments for the registered \n",
    "Dataset class constructor and are saved in the registry.'''\n",
    "from gluonnlp.data.utils import _get_home_dir"
   ]
  },
  {
   "cell_type": "code",
   "execution_count": 40,
   "metadata": {},
   "outputs": [
    {
     "name": "stderr",
     "output_type": "stream",
     "text": [
      "/home/ubuntu/anaconda3/envs/mxnet_p36/lib/python3.6/site-packages/gluonnlp/data/registry.py:91: UserWarning: \u001b[91mNew dataset __main__.TimeMachineDataSet registered with name timemachinedataset isoverriding existing dataset __main__.TimeMachineDataSet\u001b[0m\n",
      "  return register_(class_)\n"
     ]
    }
   ],
   "source": [
    "@register(segment=['train', 'test'])\n",
    "class TimeMachineDataSet(SimpleDataset):\n",
    "    def __init__(self, segment='train', \n",
    "                 root=os.path.join(_get_home_dir(), 'data', 'word_generator')):\n",
    "        self._data_file = {'train': ('train.txt', '5a84368fee37b6e38dc3c8c4e0365d32'),\n",
    "                          'test': ('test.txt', '48f4d966d69005504c13815cc2a777d0')}\n",
    "        root = os.path.expanduser(root)\n",
    "        if not os.path.isdir(root):\n",
    "            os.makedirs(root)\n",
    "        self._root = root\n",
    "        self._segment = segment\n",
    "        self._get_data()\n",
    "        super(TimeMachineDataSet, self).__init__(self._read_data())\n",
    "        \n",
    "    def _get_data(self):\n",
    "        data_file_name, data_hash = self._data_file[self._segment]\n",
    "        root = self._root\n",
    "        path = os.path.join(root, data_file_name)\n",
    "        if not os.path.exists(path) or not check_sha1(path, data_hash):\n",
    "            download('http://archive.org/stream/thetimemachine00035gut/35.txt', path=root)\n",
    "        with open(os.path.join(root, '35.txt')) as f:\n",
    "            raw_data = f.read()\n",
    "        raw_data = raw_data[44332: -24182]\n",
    "        raw_data_val = raw_data[-len(raw_data)//3:]\n",
    "        raw_data = raw_data[:2*len(raw_data)//3]\n",
    "        with open(os.path.join(root, 'train.txt'), 'w+') as output_file:\n",
    "            output_file.write(raw_data)\n",
    "\n",
    "        with open(os.path.join(root, 'test.txt'), 'w+') as output_file:\n",
    "            output_file.write(raw_data_val)\n",
    "                \n",
    "\n",
    "    def _read_data(self):\n",
    "        with open(os.path.join(self._root, self._segment+'.txt')) as f:\n",
    "            samples = f.read()\n",
    "            samples = samples[44332: -24182]\n",
    "        return samples\n"
   ]
  },
  {
   "cell_type": "code",
   "execution_count": 41,
   "metadata": {},
   "outputs": [
    {
     "name": "stdout",
     "output_type": "stream",
     "text": [
      " and so we\n",
      "entered, I, dressed in dingy nineteenth-century garments, looking\n",
      "grotesque enough, garlanded with flowers, and surrounded by an\n",
      "eddying mass of bright, soft-colored robes and shining white limbs,\n",
      "in a melodious whirl of laughter and laughing speech.\n",
      "\n",
      "'The big doorway opened into a proportionately great hall hung with\n",
      "brown. The roof was in shadow, and the windows, partially glazed\n",
      "with coloured glass and partially unglazed, admitted a tempered\n",
      "light. The floor was made up of huge blocks of some very hard white\n",
      "metal, not plates nor slabs--blocks, and it was so much worn, as I\n",
      "judged by the going to and fro of past generations, as to be deeply\n",
      "channelled along the more frequented ways. Transverse to the length\n",
      "were innumerable tables made of slabs of polished stone, raised\n",
      "perhaps a foot from the floor, and upon these were heaps of fruits.\n",
      "Some I recognized as a kind of hypertrophied raspberry and orange,\n",
      "but for the most part they were strange.\n",
      "\n",
      "'Between the tables was scat\n"
     ]
    }
   ],
   "source": [
    "print(TimeMachineDataSet(segment='train', root='../data/text_generator')[:1000])"
   ]
  },
  {
   "cell_type": "code",
   "execution_count": null,
   "metadata": {},
   "outputs": [],
   "source": []
  }
 ],
 "metadata": {
  "kernelspec": {
   "display_name": "Environment (conda_mxnet_p36)",
   "language": "python",
   "name": "conda_mxnet_p36"
  },
  "language_info": {
   "codemirror_mode": {
    "name": "ipython",
    "version": 3
   },
   "file_extension": ".py",
   "mimetype": "text/x-python",
   "name": "python",
   "nbconvert_exporter": "python",
   "pygments_lexer": "ipython3",
   "version": "3.6.4"
  }
 },
 "nbformat": 4,
 "nbformat_minor": 2
}
