{
 "cells": [
  {
   "cell_type": "markdown",
   "metadata": {},
   "source": [
    "# Distributed Training with SageMaker and Gluon\n",
    "\n",
    "This lab demonstrates how to perform distributed training on multiple hosts using Gluon and SageMaker. There are two main steps:\n",
    "\n",
    "1. Choose the version of kvstore to use when creating the Gluon Trainer. For distributed training it is either 'dist_sync', 'dist_device_sync', 'dist_async'. See there refence (https://mxnet.incubator.apache.org/api/python/kvstore/kvstore.html#mxnet.kvstore.create) for details.\n",
    "2. Specify more than 1 instance when creating a SageMaker MXNet model."
   ]
  },
  {
   "cell_type": "code",
   "execution_count": 1,
   "metadata": {},
   "outputs": [],
   "source": [
    "import mxnet as mx\n",
    "from mxnet import nd\n",
    "import os\n",
    "import boto3\n",
    "from sagemaker.mxnet import MXNet\n",
    "from sagemaker import get_execution_role\n",
    "\n",
    "role = get_execution_role()\n",
    "\n",
    "s3 = boto3.client('s3')\n",
    "\n",
    "bucket_name = 'eduthie-sagemaker-1'\n",
    "prefix = 'distributed_training_gluon_lab/'\n",
    "\n",
    "local_dir = '/tmp'"
   ]
  },
  {
   "cell_type": "code",
   "execution_count": 2,
   "metadata": {},
   "outputs": [],
   "source": [
    "num_inputs = 2\n",
    "num_outputs = 1\n",
    "num_examples = 10000000\n",
    "\n",
    "def real_fn(X):\n",
    "    return 2 * X[:, 0] - 3.4 * X[:, 1] + 4.2\n",
    "\n",
    "X = nd.random_normal(shape=(num_examples, num_inputs))\n",
    "noise = 0.01 * nd.random_normal(shape=(num_examples,))\n",
    "y = real_fn(X) + noise"
   ]
  },
  {
   "cell_type": "code",
   "execution_count": 3,
   "metadata": {},
   "outputs": [],
   "source": [
    "def save_and_upload(X,y,target_folder,i):\n",
    "    file_name = '{}'.format(i)\n",
    "    local_path = os.path.join(local_dir,file_name)\n",
    "    mx.nd.save(local_path,{'X':X, 'y':y})\n",
    "    print('Created local file {}'.format(local_path))\n",
    "    upload_filename = '{}/{}/{}'.format(prefix,target_folder,file_name)\n",
    "    print('Uploading to {}'.format(upload_filename))\n",
    "    s3.upload_file(local_path, bucket_name, upload_filename)\n",
    "\n",
    "def split_and_upload(X,y,k,target_folder):\n",
    "    n = len(X)\n",
    "    assert (n//k)*k == n\n",
    "    idx = list(range(0, n+1, n//k))\n",
    "    X_shards = [X[idx[i]:idx[i+1]] for i in range(k)]\n",
    "    y_shards = [y[idx[i]:idx[i+1]] for i in range(k)]\n",
    "    \n",
    "    for X,y,i in zip(X_shards,y_shards,range(k)):\n",
    "        save_and_upload(X,y,target_folder,i)"
   ]
  },
  {
   "cell_type": "code",
   "execution_count": 4,
   "metadata": {},
   "outputs": [
    {
     "name": "stdout",
     "output_type": "stream",
     "text": [
      "9000000\n",
      "1000000\n",
      "Created local file /tmp/0\n",
      "Uploading to distributed_training_gluon_lab//train/0\n",
      "Created local file /tmp/1\n",
      "Uploading to distributed_training_gluon_lab//train/1\n",
      "Created local file /tmp/2\n",
      "Uploading to distributed_training_gluon_lab//train/2\n",
      "Created local file /tmp/3\n",
      "Uploading to distributed_training_gluon_lab//train/3\n",
      "Created local file /tmp/4\n",
      "Uploading to distributed_training_gluon_lab//train/4\n",
      "Created local file /tmp/0\n",
      "Uploading to distributed_training_gluon_lab//test/0\n"
     ]
    }
   ],
   "source": [
    "train_frac = 0.9\n",
    "split_index = int(num_examples*train_frac)\n",
    "X_train = X[0:split_index]\n",
    "X_test = X[split_index:]\n",
    "y_train = y[0:split_index]\n",
    "y_test = y[split_index:]\n",
    "print(len(X_train))\n",
    "print(len(X_test))\n",
    "\n",
    "split_and_upload(X_train,y_train,5,'train')\n",
    "save_and_upload(X_test,y_test,'test',0)"
   ]
  },
  {
   "cell_type": "code",
   "execution_count": 5,
   "metadata": {},
   "outputs": [],
   "source": [
    "from multiple_regression import train"
   ]
  },
  {
   "cell_type": "code",
   "execution_count": 6,
   "metadata": {},
   "outputs": [
    {
     "name": "stdout",
     "output_type": "stream",
     "text": [
      "Train file path ./data/0\n",
      "Number of examples 100\n",
      "kvstore device\n",
      "Epoch 0, loss: 0.330997190475\n",
      "Epoch 1, loss: 0.35462594986\n",
      "Epoch 2, loss: 0.340337524414\n",
      "Epoch 3, loss: 0.344433574677\n",
      "Epoch 4, loss: 0.337782287598\n",
      "Epoch 5, loss: 0.340681056976\n",
      "Epoch 6, loss: 0.34321428299\n",
      "Epoch 7, loss: 0.328452281952\n",
      "Epoch 8, loss: 0.341133003235\n",
      "Epoch 9, loss: 0.334118156433\n"
     ]
    }
   ],
   "source": [
    "channel_input_dirs = {'train':'./data'}\n",
    "hyperparameters = {'batch_size':64, 'epochs':10, 'learning_rate':0.01}\n",
    "train(hyperparameters=hyperparameters,channel_input_dirs=channel_input_dirs,num_gpus=1,hosts=['alg-1','alg-2'],\n",
    "      current_host='alg-1')"
   ]
  },
  {
   "cell_type": "code",
   "execution_count": null,
   "metadata": {},
   "outputs": [
    {
     "name": "stderr",
     "output_type": "stream",
     "text": [
      "INFO:sagemaker:Creating training-job with name: sagemaker-mxnet-2018-07-12-08-25-42-331\n"
     ]
    },
    {
     "name": "stdout",
     "output_type": "stream",
     "text": [
      ".........................\n",
      "\u001b[32m2018-07-12 08:29:41,331 INFO - root - running container entrypoint\u001b[0m\n",
      "\u001b[32m2018-07-12 08:29:41,331 INFO - root - starting train task\u001b[0m\n",
      "\u001b[32m2018-07-12 08:29:41,351 INFO - container_support.training - Training starting\u001b[0m\n",
      "\u001b[31m2018-07-12 08:29:37,926 INFO - root - running container entrypoint\u001b[0m\n",
      "\u001b[31m2018-07-12 08:29:37,926 INFO - root - starting train task\u001b[0m\n",
      "\u001b[31m2018-07-12 08:29:37,948 INFO - container_support.training - Training starting\u001b[0m\n",
      "\u001b[32m2018-07-12 08:29:45,269 INFO - mxnet_container.train - MXNetTrainingEnvironment: {'enable_cloudwatch_metrics': False, 'available_gpus': 1, 'channels': {u'test': {u'TrainingInputMode': u'File', u'RecordWrapperType': u'None', u'S3DistributionType': u'FullyReplicated'}, u'train': {u'TrainingInputMode': u'File', u'RecordWrapperType': u'None', u'S3DistributionType': u'FullyReplicated'}}, '_ps_verbose': 0, 'resource_config': {u'current_host': u'algo-2', u'network_interface_name': u'ethwe', u'hosts': [u'algo-1', u'algo-2']}, 'user_script_name': u'multiple_regression.py', 'input_config_dir': '/opt/ml/input/config', 'channel_dirs': {u'test': u'/opt/ml/input/data/test', u'train': u'/opt/ml/input/data/train'}, 'code_dir': '/opt/ml/code', 'output_data_dir': u'/opt/ml/output/data/algo-2', 'output_dir': '/opt/ml/output', 'model_dir': '/opt/ml/model', 'hyperparameters': {u'sagemaker_program': u'multiple_regression.py', u'batch_size': 64, u'epochs': 10, u'sagemaker_submit_directory': u's3://sagemaker-eu-west-1-987551451182/sagemaker-mxnet-2018-07-12-08-25-42-331/source/sourcedir.tar.gz', u'sagemaker_region': u'eu-west-1', u'sagemaker_enable_cloudwatch_metrics': False, u'sagemaker_job_name': u'sagemaker-mxnet-2018-07-12-08-25-42-331', u'sagemaker_container_log_level': 20}, 'hosts': [u'algo-1', u'algo-2'], 'job_name': 'sagemaker-mxnet-2018-07-12-08-25-42-331', '_ps_port': 8000, 'user_script_archive': u's3://sagemaker-eu-west-1-987551451182/sagemaker-mxnet-2018-07-12-08-25-42-331/source/sourcedir.tar.gz', '_scheduler_host': u'algo-1', 'sagemaker_region': u'eu-west-1', '_scheduler_ip': '10.40.0.3', 'input_dir': '/opt/ml/input', 'user_requirements_file': None, 'current_host': u'algo-2', 'container_log_level': 20, 'available_cpus': 8, 'base_dir': '/opt/ml'}\u001b[0m\n",
      "\u001b[32mDownloading s3://sagemaker-eu-west-1-987551451182/sagemaker-mxnet-2018-07-12-08-25-42-331/source/sourcedir.tar.gz to /tmp/script.tar.gz\u001b[0m\n",
      "\u001b[32m2018-07-12 08:29:45,389 INFO - botocore.vendored.requests.packages.urllib3.connectionpool - Starting new HTTP connection (1): 169.254.170.2\u001b[0m\n",
      "\u001b[32m2018-07-12 08:29:45,493 INFO - botocore.vendored.requests.packages.urllib3.connectionpool - Starting new HTTPS connection (1): sagemaker-eu-west-1-987551451182.s3.amazonaws.com\u001b[0m\n",
      "\u001b[32m2018-07-12 08:29:45,535 INFO - botocore.vendored.requests.packages.urllib3.connectionpool - Starting new HTTPS connection (2): sagemaker-eu-west-1-987551451182.s3.amazonaws.com\u001b[0m\n",
      "\u001b[32m2018-07-12 08:29:45,548 INFO - botocore.vendored.requests.packages.urllib3.connectionpool - Starting new HTTPS connection (1): sagemaker-eu-west-1-987551451182.s3.eu-west-1.amazonaws.com\u001b[0m\n",
      "\u001b[32m2018-07-12 08:29:45,630 INFO - botocore.vendored.requests.packages.urllib3.connectionpool - Starting new HTTPS connection (2): sagemaker-eu-west-1-987551451182.s3.eu-west-1.amazonaws.com\u001b[0m\n",
      "\u001b[32m2018-07-12 08:29:45,714 INFO - mxnet_container.train - Starting distributed training task\u001b[0m\n",
      "\u001b[32mTrain file path /opt/ml/input/data/train/1\u001b[0m\n",
      "\u001b[32mNumber of examples 1800000\u001b[0m\n",
      "\u001b[32mkvstore dist_device_sync\u001b[0m\n",
      "\u001b[31m2018-07-12 08:29:46,489 INFO - mxnet_container.train - MXNetTrainingEnvironment: {'enable_cloudwatch_metrics': False, 'available_gpus': 1, 'channels': {u'test': {u'TrainingInputMode': u'File', u'RecordWrapperType': u'None', u'S3DistributionType': u'FullyReplicated'}, u'train': {u'TrainingInputMode': u'File', u'RecordWrapperType': u'None', u'S3DistributionType': u'FullyReplicated'}}, '_ps_verbose': 0, 'resource_config': {u'current_host': u'algo-1', u'network_interface_name': u'ethwe', u'hosts': [u'algo-1', u'algo-2']}, 'user_script_name': u'multiple_regression.py', 'input_config_dir': '/opt/ml/input/config', 'channel_dirs': {u'test': u'/opt/ml/input/data/test', u'train': u'/opt/ml/input/data/train'}, 'code_dir': '/opt/ml/code', 'output_data_dir': u'/opt/ml/output/data/algo-1', 'output_dir': '/opt/ml/output', 'model_dir': '/opt/ml/model', 'hyperparameters': {u'sagemaker_program': u'multiple_regression.py', u'batch_size': 64, u'epochs': 10, u'sagemaker_submit_directory': u's3://sagemaker-eu-west-1-987551451182/sagemaker-mxnet-2018-07-12-08-25-42-331/source/sourcedir.tar.gz', u'sagemaker_region': u'eu-west-1', u'sagemaker_enable_cloudwatch_metrics': False, u'sagemaker_job_name': u'sagemaker-mxnet-2018-07-12-08-25-42-331', u'sagemaker_container_log_level': 20}, 'hosts': [u'algo-1', u'algo-2'], 'job_name': 'sagemaker-mxnet-2018-07-12-08-25-42-331', '_ps_port': 8000, 'user_script_archive': u's3://sagemaker-eu-west-1-987551451182/sagemaker-mxnet-2018-07-12-08-25-42-331/source/sourcedir.tar.gz', '_scheduler_host': u'algo-1', 'sagemaker_region': u'eu-west-1', '_scheduler_ip': '10.40.0.3', 'input_dir': '/opt/ml/input', 'user_requirements_file': None, 'current_host': u'algo-1', 'container_log_level': 20, 'available_cpus': 8, 'base_dir': '/opt/ml'}\u001b[0m\n",
      "\u001b[31mDownloading s3://sagemaker-eu-west-1-987551451182/sagemaker-mxnet-2018-07-12-08-25-42-331/source/sourcedir.tar.gz to /tmp/script.tar.gz\u001b[0m\n",
      "\u001b[31m2018-07-12 08:29:46,605 INFO - botocore.vendored.requests.packages.urllib3.connectionpool - Starting new HTTP connection (1): 169.254.170.2\u001b[0m\n",
      "\u001b[31m2018-07-12 08:29:46,720 INFO - botocore.vendored.requests.packages.urllib3.connectionpool - Starting new HTTPS connection (1): sagemaker-eu-west-1-987551451182.s3.amazonaws.com\u001b[0m\n",
      "\u001b[31m2018-07-12 08:29:46,789 INFO - botocore.vendored.requests.packages.urllib3.connectionpool - Starting new HTTPS connection (2): sagemaker-eu-west-1-987551451182.s3.amazonaws.com\u001b[0m\n",
      "\u001b[31m2018-07-12 08:29:46,803 INFO - botocore.vendored.requests.packages.urllib3.connectionpool - Starting new HTTPS connection (1): sagemaker-eu-west-1-987551451182.s3.eu-west-1.amazonaws.com\u001b[0m\n",
      "\u001b[31m2018-07-12 08:29:46,864 INFO - botocore.vendored.requests.packages.urllib3.connectionpool - Starting new HTTPS connection (2): sagemaker-eu-west-1-987551451182.s3.eu-west-1.amazonaws.com\u001b[0m\n",
      "\u001b[31m2018-07-12 08:29:46,992 INFO - mxnet_container.train - Starting distributed training task\u001b[0m\n",
      "\u001b[31mTrain file path /opt/ml/input/data/train/0\u001b[0m\n",
      "\u001b[31mNumber of examples 1800000\u001b[0m\n",
      "\u001b[31mkvstore dist_device_sync\u001b[0m\n"
     ]
    },
    {
     "name": "stderr",
     "output_type": "stream",
     "text": [
      "/home/ec2-user/anaconda3/envs/mxnet_p36/lib/python3.6/site-packages/sagemaker/session.py:782: DeprecationWarning: generator 'multi_stream_iter' raised StopIteration\n",
      "  for idx, event in sagemaker.logs.multi_stream_iter(client, log_group, stream_names, positions):\n"
     ]
    },
    {
     "name": "stdout",
     "output_type": "stream",
     "text": [
      "\u001b[32mEpoch 0, loss: 0.0244133305157\u001b[0m\n",
      "\u001b[31mEpoch 0, loss: 0.0243529557301\u001b[0m\n",
      "\u001b[32mEpoch 1, loss: 1.09735581624e-06\u001b[0m\n",
      "\u001b[31mEpoch 1, loss: 1.09551817263e-06\u001b[0m\n",
      "\u001b[32mEpoch 2, loss: 7.82107433146e-07\u001b[0m\n",
      "\u001b[31mEpoch 2, loss: 7.81440616914e-07\u001b[0m\n",
      "\u001b[32mEpoch 3, loss: 7.82098567742e-07\u001b[0m\n",
      "\u001b[31mEpoch 3, loss: 7.81441063522e-07\u001b[0m\n",
      "\u001b[31mEpoch 4, loss: 7.81441730187e-07\u001b[0m\n",
      "\u001b[32mEpoch 4, loss: 7.82099877873e-07\u001b[0m\n"
     ]
    }
   ],
   "source": [
    "mnist_estimator_10 = MXNet(entry_point='multiple_regression.py',\n",
    "    role=role,\n",
    "    train_instance_count=10, \n",
    "    train_instance_type='ml.p3.2xlarge',\n",
    "    hyperparameters={'batch_size':64, 'epochs':10, 'learning_rate':0.00000001})\n",
    "\n",
    "mnist_estimator_1 = MXNet(entry_point='multiple_regression.py',\n",
    "    role=role,\n",
    "    train_instance_count=1, \n",
    "    train_instance_type='ml.p3.2xlarge',\n",
    "    hyperparameters={'batch_size':64, 'epochs':10, 'learning_rate':0.00000001})\n",
    "\n",
    "train_data_location = 's3://{}/{}train'.format(bucket_name,prefix)\n",
    "test_data_location = 's3://{}/{}test'.format(bucket_name,prefix)\n",
    "\n",
    "mnist_estimator_1.fit({'train': train_data_location, 'test': test_data_location},wait=False)\n",
    "mnist_estimator_10.fit({'train': train_data_location, 'test': test_data_location},wait=False)"
   ]
  },
  {
   "cell_type": "code",
   "execution_count": null,
   "metadata": {},
   "outputs": [],
   "source": []
  }
 ],
 "metadata": {
  "kernelspec": {
   "display_name": "conda_mxnet_p36",
   "language": "python",
   "name": "conda_mxnet_p36"
  },
  "language_info": {
   "codemirror_mode": {
    "name": "ipython",
    "version": 3
   },
   "file_extension": ".py",
   "mimetype": "text/x-python",
   "name": "python",
   "nbconvert_exporter": "python",
   "pygments_lexer": "ipython3",
   "version": "3.6.4"
  }
 },
 "nbformat": 4,
 "nbformat_minor": 2
}
