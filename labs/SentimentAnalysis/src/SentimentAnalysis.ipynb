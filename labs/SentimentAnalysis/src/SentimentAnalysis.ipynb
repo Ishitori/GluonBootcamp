{
 "cells": [
  {
   "cell_type": "code",
   "execution_count": 45,
   "metadata": {
    "slideshow": {
     "slide_type": "skip"
    }
   },
   "outputs": [
    {
     "name": "stdout",
     "output_type": "stream",
     "text": [
      "Requirement already up-to-date: mxnet-cu90 in /home/ubuntu/anaconda3/envs/mxnet_p36/lib/python3.6/site-packages (1.3.0b20180719)\n",
      "Requirement not upgraded as not directly required: numpy<1.15.0,>=1.8.2 in /home/ubuntu/anaconda3/envs/mxnet_p36/lib/python3.6/site-packages (from mxnet-cu90) (1.13.3)\n",
      "Requirement not upgraded as not directly required: requests<2.19.0,>=2.18.4 in /home/ubuntu/anaconda3/envs/mxnet_p36/lib/python3.6/site-packages (from mxnet-cu90) (2.18.4)\n",
      "Requirement not upgraded as not directly required: graphviz<0.9.0,>=0.8.1 in /home/ubuntu/anaconda3/envs/mxnet_p36/lib/python3.6/site-packages (from mxnet-cu90) (0.8.1)\n",
      "Requirement not upgraded as not directly required: chardet<3.1.0,>=3.0.2 in /home/ubuntu/anaconda3/envs/mxnet_p36/lib/python3.6/site-packages (from requests<2.19.0,>=2.18.4->mxnet-cu90) (3.0.4)\n",
      "Requirement not upgraded as not directly required: idna<2.7,>=2.5 in /home/ubuntu/anaconda3/envs/mxnet_p36/lib/python3.6/site-packages (from requests<2.19.0,>=2.18.4->mxnet-cu90) (2.6)\n",
      "Requirement not upgraded as not directly required: urllib3<1.23,>=1.21.1 in /home/ubuntu/anaconda3/envs/mxnet_p36/lib/python3.6/site-packages (from requests<2.19.0,>=2.18.4->mxnet-cu90) (1.22)\n",
      "Requirement not upgraded as not directly required: certifi>=2017.4.17 in /home/ubuntu/anaconda3/envs/mxnet_p36/lib/python3.6/site-packages (from requests<2.19.0,>=2.18.4->mxnet-cu90) (2018.4.16)\n",
      "\u001b[31mmxnet-model-server 0.3 requires fasteners, which is not installed.\u001b[0m\n",
      "\u001b[31mmxnet-model-server 0.3 requires importlib2, which is not installed.\u001b[0m\n",
      "\u001b[31mmxnet-model-server 0.3 requires mxnet>=1.1, which is not installed.\u001b[0m\n",
      "\u001b[31mmxnet-model-server 0.3 requires onnx-mxnet>=0.4.2, which is not installed.\u001b[0m\n",
      "Requirement already satisfied: gluoncv in /home/ubuntu/anaconda3/envs/mxnet_p36/lib/python3.6/site-packages (0.2.0)\n",
      "Requirement already satisfied: tqdm in /home/ubuntu/anaconda3/envs/mxnet_p36/lib/python3.6/site-packages (from gluoncv) (4.23.4)\n",
      "Requirement already satisfied: numpy in /home/ubuntu/anaconda3/envs/mxnet_p36/lib/python3.6/site-packages (from gluoncv) (1.13.3)\n",
      "Requirement already satisfied: scipy in /home/ubuntu/anaconda3/envs/mxnet_p36/lib/python3.6/site-packages (from gluoncv) (1.1.0)\n",
      "Requirement already satisfied: matplotlib in /home/ubuntu/anaconda3/envs/mxnet_p36/lib/python3.6/site-packages (from gluoncv) (2.2.2)\n",
      "Requirement already satisfied: requests in /home/ubuntu/anaconda3/envs/mxnet_p36/lib/python3.6/site-packages (from gluoncv) (2.18.4)\n",
      "Requirement already satisfied: Pillow in /home/ubuntu/anaconda3/envs/mxnet_p36/lib/python3.6/site-packages (from gluoncv) (5.0.0)\n",
      "Requirement already satisfied: python-dateutil>=2.1 in /home/ubuntu/anaconda3/envs/mxnet_p36/lib/python3.6/site-packages (from matplotlib->gluoncv) (2.7.3)\n",
      "Requirement already satisfied: pytz in /home/ubuntu/anaconda3/envs/mxnet_p36/lib/python3.6/site-packages (from matplotlib->gluoncv) (2018.4)\n",
      "Requirement already satisfied: kiwisolver>=1.0.1 in /home/ubuntu/anaconda3/envs/mxnet_p36/lib/python3.6/site-packages (from matplotlib->gluoncv) (1.0.1)\n",
      "Requirement already satisfied: cycler>=0.10 in /home/ubuntu/anaconda3/envs/mxnet_p36/lib/python3.6/site-packages (from matplotlib->gluoncv) (0.10.0)\n",
      "Requirement already satisfied: six>=1.10 in /home/ubuntu/anaconda3/envs/mxnet_p36/lib/python3.6/site-packages (from matplotlib->gluoncv) (1.11.0)\n",
      "Requirement already satisfied: pyparsing!=2.0.4,!=2.1.2,!=2.1.6,>=2.0.1 in /home/ubuntu/anaconda3/envs/mxnet_p36/lib/python3.6/site-packages (from matplotlib->gluoncv) (2.2.0)\n",
      "Requirement already satisfied: chardet<3.1.0,>=3.0.2 in /home/ubuntu/anaconda3/envs/mxnet_p36/lib/python3.6/site-packages (from requests->gluoncv) (3.0.4)\n",
      "Requirement already satisfied: idna<2.7,>=2.5 in /home/ubuntu/anaconda3/envs/mxnet_p36/lib/python3.6/site-packages (from requests->gluoncv) (2.6)\n",
      "Requirement already satisfied: urllib3<1.23,>=1.21.1 in /home/ubuntu/anaconda3/envs/mxnet_p36/lib/python3.6/site-packages (from requests->gluoncv) (1.22)\n",
      "Requirement already satisfied: certifi>=2017.4.17 in /home/ubuntu/anaconda3/envs/mxnet_p36/lib/python3.6/site-packages (from requests->gluoncv) (2018.4.16)\n",
      "Requirement already satisfied: setuptools in /home/ubuntu/anaconda3/envs/mxnet_p36/lib/python3.6/site-packages (from kiwisolver>=1.0.1->matplotlib->gluoncv) (39.2.0)\n",
      "\u001b[31mmxnet-model-server 0.3 requires fasteners, which is not installed.\u001b[0m\n",
      "\u001b[31mmxnet-model-server 0.3 requires importlib2, which is not installed.\u001b[0m\n",
      "\u001b[31mmxnet-model-server 0.3 requires mxnet>=1.1, which is not installed.\u001b[0m\n",
      "\u001b[31mmxnet-model-server 0.3 requires onnx-mxnet>=0.4.2, which is not installed.\u001b[0m\n",
      "Requirement already satisfied: gluonnlp in /home/ubuntu/anaconda3/envs/mxnet_p36/lib/python3.6/site-packages (0.3.1)\n",
      "Requirement already satisfied: numpy in /home/ubuntu/anaconda3/envs/mxnet_p36/lib/python3.6/site-packages (from gluonnlp) (1.13.3)\n",
      "\u001b[31mmxnet-model-server 0.3 requires fasteners, which is not installed.\u001b[0m\n",
      "\u001b[31mmxnet-model-server 0.3 requires importlib2, which is not installed.\u001b[0m\n",
      "\u001b[31mmxnet-model-server 0.3 requires mxnet>=1.1, which is not installed.\u001b[0m\n",
      "\u001b[31mmxnet-model-server 0.3 requires onnx-mxnet>=0.4.2, which is not installed.\u001b[0m\n",
      "Requirement already satisfied: spacy in /home/ubuntu/anaconda3/envs/mxnet_p36/lib/python3.6/site-packages (2.0.11)\n",
      "Requirement already satisfied: preshed<2.0.0,>=1.0.0 in /home/ubuntu/anaconda3/envs/mxnet_p36/lib/python3.6/site-packages (from spacy) (1.0.0)\n",
      "Requirement already satisfied: pathlib in /home/ubuntu/anaconda3/envs/mxnet_p36/lib/python3.6/site-packages (from spacy) (1.0.1)\n",
      "Requirement already satisfied: regex==2017.4.5 in /home/ubuntu/anaconda3/envs/mxnet_p36/lib/python3.6/site-packages (from spacy) (2017.4.5)\n",
      "Requirement already satisfied: cymem<1.32,>=1.30 in /home/ubuntu/anaconda3/envs/mxnet_p36/lib/python3.6/site-packages (from spacy) (1.31.2)\n",
      "Requirement already satisfied: thinc<6.11.0,>=6.10.1 in /home/ubuntu/anaconda3/envs/mxnet_p36/lib/python3.6/site-packages (from spacy) (6.10.2)\n",
      "Requirement already satisfied: dill<0.3,>=0.2 in /home/ubuntu/anaconda3/envs/mxnet_p36/lib/python3.6/site-packages (from spacy) (0.2.8.2)\n",
      "Requirement already satisfied: murmurhash<0.29,>=0.28 in /home/ubuntu/anaconda3/envs/mxnet_p36/lib/python3.6/site-packages (from spacy) (0.28.0)\n",
      "Requirement already satisfied: numpy>=1.7 in /home/ubuntu/anaconda3/envs/mxnet_p36/lib/python3.6/site-packages (from spacy) (1.13.3)\n",
      "Requirement already satisfied: plac<1.0.0,>=0.9.6 in /home/ubuntu/anaconda3/envs/mxnet_p36/lib/python3.6/site-packages (from spacy) (0.9.6)\n",
      "Requirement already satisfied: ujson>=1.35 in /home/ubuntu/anaconda3/envs/mxnet_p36/lib/python3.6/site-packages (from spacy) (1.35)\n",
      "Requirement already satisfied: cytoolz<0.9,>=0.8 in /home/ubuntu/anaconda3/envs/mxnet_p36/lib/python3.6/site-packages (from thinc<6.11.0,>=6.10.1->spacy) (0.8.2)\n",
      "Requirement already satisfied: termcolor in /home/ubuntu/anaconda3/envs/mxnet_p36/lib/python3.6/site-packages (from thinc<6.11.0,>=6.10.1->spacy) (1.1.0)\n",
      "Requirement already satisfied: six<2.0.0,>=1.10.0 in /home/ubuntu/anaconda3/envs/mxnet_p36/lib/python3.6/site-packages (from thinc<6.11.0,>=6.10.1->spacy) (1.11.0)\n",
      "Requirement already satisfied: msgpack-python in /home/ubuntu/anaconda3/envs/mxnet_p36/lib/python3.6/site-packages (from thinc<6.11.0,>=6.10.1->spacy) (0.5.6)\n",
      "Requirement already satisfied: wrapt in /home/ubuntu/anaconda3/envs/mxnet_p36/lib/python3.6/site-packages (from thinc<6.11.0,>=6.10.1->spacy) (1.10.11)\n",
      "Requirement already satisfied: tqdm<5.0.0,>=4.10.0 in /home/ubuntu/anaconda3/envs/mxnet_p36/lib/python3.6/site-packages (from thinc<6.11.0,>=6.10.1->spacy) (4.23.4)\n",
      "Requirement already satisfied: msgpack-numpy==0.4.1 in /home/ubuntu/anaconda3/envs/mxnet_p36/lib/python3.6/site-packages (from thinc<6.11.0,>=6.10.1->spacy) (0.4.1)\n",
      "Requirement already satisfied: toolz>=0.8.0 in /home/ubuntu/anaconda3/envs/mxnet_p36/lib/python3.6/site-packages (from cytoolz<0.9,>=0.8->thinc<6.11.0,>=6.10.1->spacy) (0.9.0)\n",
      "\u001b[31mmxnet-model-server 0.3 requires fasteners, which is not installed.\u001b[0m\n",
      "\u001b[31mmxnet-model-server 0.3 requires importlib2, which is not installed.\u001b[0m\n",
      "\u001b[31mmxnet-model-server 0.3 requires mxnet>=1.1, which is not installed.\u001b[0m\n",
      "\u001b[31mmxnet-model-server 0.3 requires onnx-mxnet>=0.4.2, which is not installed.\u001b[0m\n"
     ]
    },
    {
     "name": "stdout",
     "output_type": "stream",
     "text": [
      "Collecting seaborn\n",
      "\u001b[?25l  Downloading https://files.pythonhosted.org/packages/a8/76/220ba4420459d9c4c9c9587c6ce607bf56c25b3d3d2de62056efe482dadc/seaborn-0.9.0-py3-none-any.whl (208kB)\n",
      "\u001b[K    100% |████████████████████████████████| 215kB 4.5MB/s ta 0:00:01\n",
      "\u001b[?25hRequirement already satisfied: numpy>=1.9.3 in /home/ubuntu/anaconda3/envs/mxnet_p36/lib/python3.6/site-packages (from seaborn) (1.13.3)\n",
      "Requirement already satisfied: matplotlib>=1.4.3 in /home/ubuntu/anaconda3/envs/mxnet_p36/lib/python3.6/site-packages (from seaborn) (2.2.2)\n",
      "Requirement already satisfied: pandas>=0.15.2 in /home/ubuntu/anaconda3/envs/mxnet_p36/lib/python3.6/site-packages (from seaborn) (0.23.0)\n",
      "Requirement already satisfied: scipy>=0.14.0 in /home/ubuntu/anaconda3/envs/mxnet_p36/lib/python3.6/site-packages (from seaborn) (1.1.0)\n",
      "Requirement already satisfied: six>=1.10 in /home/ubuntu/anaconda3/envs/mxnet_p36/lib/python3.6/site-packages (from matplotlib>=1.4.3->seaborn) (1.11.0)\n",
      "Requirement already satisfied: python-dateutil>=2.1 in /home/ubuntu/anaconda3/envs/mxnet_p36/lib/python3.6/site-packages (from matplotlib>=1.4.3->seaborn) (2.7.3)\n",
      "Requirement already satisfied: cycler>=0.10 in /home/ubuntu/anaconda3/envs/mxnet_p36/lib/python3.6/site-packages (from matplotlib>=1.4.3->seaborn) (0.10.0)\n",
      "Requirement already satisfied: pytz in /home/ubuntu/anaconda3/envs/mxnet_p36/lib/python3.6/site-packages (from matplotlib>=1.4.3->seaborn) (2018.4)\n",
      "Requirement already satisfied: pyparsing!=2.0.4,!=2.1.2,!=2.1.6,>=2.0.1 in /home/ubuntu/anaconda3/envs/mxnet_p36/lib/python3.6/site-packages (from matplotlib>=1.4.3->seaborn) (2.2.0)\n",
      "Requirement already satisfied: kiwisolver>=1.0.1 in /home/ubuntu/anaconda3/envs/mxnet_p36/lib/python3.6/site-packages (from matplotlib>=1.4.3->seaborn) (1.0.1)\n",
      "Requirement already satisfied: setuptools in /home/ubuntu/anaconda3/envs/mxnet_p36/lib/python3.6/site-packages (from kiwisolver>=1.0.1->matplotlib>=1.4.3->seaborn) (39.2.0)\n",
      "\u001b[31mmxnet-model-server 0.3 requires fasteners, which is not installed.\u001b[0m\n",
      "\u001b[31mmxnet-model-server 0.3 requires importlib2, which is not installed.\u001b[0m\n",
      "\u001b[31mmxnet-model-server 0.3 requires mxnet>=1.1, which is not installed.\u001b[0m\n",
      "\u001b[31mmxnet-model-server 0.3 requires onnx-mxnet>=0.4.2, which is not installed.\u001b[0m\n",
      "Installing collected packages: seaborn\n",
      "Successfully installed seaborn-0.9.0\n"
     ]
    }
   ],
   "source": [
    "!pip install --pre --upgrade mxnet-cu90\n",
    "!pip install gluoncv\n",
    "!pip install gluonnlp\n",
    "!pip install spacy\n",
    "!pip install seaborn"
   ]
  },
  {
   "cell_type": "markdown",
   "metadata": {
    "slideshow": {
     "slide_type": "slide"
    }
   },
   "source": [
    "# Checking MXNet version after upgrade"
   ]
  },
  {
   "cell_type": "code",
   "execution_count": 98,
   "metadata": {
    "slideshow": {
     "slide_type": "fragment"
    }
   },
   "outputs": [
    {
     "data": {
      "text/plain": [
       "'1.3.0'"
      ]
     },
     "execution_count": 98,
     "metadata": {},
     "output_type": "execute_result"
    }
   ],
   "source": [
    "import mxnet as mx\n",
    "mx.__version__"
   ]
  },
  {
   "cell_type": "markdown",
   "metadata": {
    "slideshow": {
     "slide_type": "slide"
    }
   },
   "source": [
    "# Import statemetns"
   ]
  },
  {
   "cell_type": "code",
   "execution_count": 99,
   "metadata": {
    "slideshow": {
     "slide_type": "fragment"
    }
   },
   "outputs": [],
   "source": [
    "from mxnet import gluon\n",
    "import gluonnlp as nlp\n",
    "import time\n",
    "import multiprocessing as mp\n",
    "import itertools\n",
    "import numpy as np\n",
    "import pandas as pd\n",
    "import seaborn as sns\n",
    "import matplotlib.pyplot as plt\n",
    "from scipy import stats"
   ]
  },
  {
   "cell_type": "markdown",
   "metadata": {
    "slideshow": {
     "slide_type": "slide"
    }
   },
   "source": [
    "# Downloading IMDB Data Set & Instansiating SimpleDataSet Objects"
   ]
  },
  {
   "cell_type": "code",
   "execution_count": 100,
   "metadata": {
    "slideshow": {
     "slide_type": "fragment"
    }
   },
   "outputs": [
    {
     "name": "stdout",
     "output_type": "stream",
     "text": [
      "10\n",
      "10\n",
      "7\n",
      "3\n",
      "10\n",
      "2\n",
      "10\n",
      "1\n",
      "1\n",
      "1\n"
     ]
    }
   ],
   "source": [
    "from numpy.random import randint\n",
    "train_dataset = nlp.data.IMDB(segment='train', root='../data/')\n",
    "test_dataset = nlp.data.IMDB(segment='test', root='../data/')\n",
    "for i in range(10):\n",
    "    print(train_dataset[randint(1, 20000)][1])"
   ]
  },
  {
   "cell_type": "markdown",
   "metadata": {
    "slideshow": {
     "slide_type": "slide"
    }
   },
   "source": [
    "# SimpleDataset Class Hierarchy"
   ]
  },
  {
   "cell_type": "code",
   "execution_count": 109,
   "metadata": {
    "slideshow": {
     "slide_type": "fragment"
    }
   },
   "outputs": [
    {
     "name": "stdout",
     "output_type": "stream",
     "text": [
      "(<class 'mxnet.gluon.data.dataset.SimpleDataset'>,)\n",
      "(<class 'mxnet.gluon.data.dataset.Dataset'>,)\n"
     ]
    }
   ],
   "source": [
    "print(nlp.data.IMDB.__bases__)\n",
    "print(gluon.data.SimpleDataset.__bases__)"
   ]
  },
  {
   "cell_type": "markdown",
   "metadata": {
    "slideshow": {
     "slide_type": "slide"
    }
   },
   "source": [
    "\n",
    "# Setting Max Seq Length & Defining Tokenizer"
   ]
  },
  {
   "cell_type": "code",
   "execution_count": 103,
   "metadata": {
    "slideshow": {
     "slide_type": "fragment"
    }
   },
   "outputs": [],
   "source": [
    "length_clip = nlp.data.ClipSequence(500)\n",
    "tokenizer = nlp.data.SpacyTokenizer('en')"
   ]
  },
  {
   "cell_type": "markdown",
   "metadata": {
    "slideshow": {
     "slide_type": "slide"
    }
   },
   "source": [
    "# Pre-processing Data"
   ]
  },
  {
   "cell_type": "markdown",
   "metadata": {
    "slideshow": {
     "slide_type": "fragment"
    }
   },
   "source": [
    "- `preprocess(x)` \n",
    " - normalized label to 1 for positive and 0 for negative\n",
    " - tokenized data\n",
    " - clips the length\n",
    " - returns tokenized data and label"
   ]
  },
  {
   "cell_type": "markdown",
   "metadata": {
    "slideshow": {
     "slide_type": "fragment"
    }
   },
   "source": [
    "- `preprocess_dataset` uses paralele processing using maximum number of CPUs to\n",
    " - run `preprocess`, and\n",
    " - calculate length of each sentence"
   ]
  },
  {
   "cell_type": "code",
   "execution_count": 104,
   "metadata": {
    "slideshow": {
     "slide_type": "subslide"
    }
   },
   "outputs": [
    {
     "name": "stdout",
     "output_type": "stream",
     "text": [
      "Done! Tokenizing Time=6.29s, #Sentences=25000\n",
      "Done! Tokenizing Time=6.04s, #Sentences=25000\n"
     ]
    }
   ],
   "source": [
    "# Dataset preprocessing\n",
    "def preprocess(x):\n",
    "    data = x[0]\n",
    "    label = x[1]\n",
    "    label = int(label > 5)\n",
    "    data = length_clip(tokenizer(data))\n",
    "    return data, label\n",
    "\n",
    "def get_length(x):\n",
    "    return float(len(x[0]))\n",
    "\n",
    "def preprocess_dataset(dataset):\n",
    "    start = time.time()\n",
    "    pool = mp.Pool()\n",
    "    dataset = gluon.data.SimpleDataset(pool.map(preprocess, dataset))\n",
    "    lengths = gluon.data.SimpleDataset(pool.map(get_length, dataset))\n",
    "    end = time.time()\n",
    "    print('Done! Tokenizing Time={:.2f}s, #Sentences={}'.format(end - start, len(dataset)))\n",
    "    return dataset, lengths\n",
    "\n",
    "# Preprocess the dataset\n",
    "train_dataset, train_data_lengths = preprocess_dataset(train_dataset)\n",
    "test_dataset, test_data_lengths = preprocess_dataset(test_dataset)\n"
   ]
  },
  {
   "cell_type": "code",
   "execution_count": 105,
   "metadata": {},
   "outputs": [],
   "source": [
    "train_seqs = [sample[0] for sample in train_dataset]\n",
    "counter = nlp.data.count_tokens(list(itertools.chain.from_iterable(train_seqs)))\n",
    "vocab = nlp.Vocab(counter=counter, max_size=10000, padding_token=None, eos_token=None, bos_token=None)\n"
   ]
  },
  {
   "cell_type": "code",
   "execution_count": 106,
   "metadata": {},
   "outputs": [
    {
     "name": "stdout",
     "output_type": "stream",
     "text": [
      "sentence0: [0, 2012, 8, 4, 1116, 231, 3, 51, 2311, 40, 1, 188, 67, 20, 59, 97, 6190, 49, 422, 133, 2, 160, 20, 13, 0, 13, 3, 374, 5063, 174, 9, 1, 5390, 6674, 498, 83, 7, 282, 12, 0, 2012, 15, 2042, 8, 88, 2661, 7, 714, 87, 8, 13, 0, 13, 3, 24, 0, 7, 2149, 0, 2, 1, 6661, 1519, 43, 68, 78, 234, 163, 79, 1286, 5847, 53, 0, 2, 1, 0, 6, 1, 241, 959, 2, 41, 3276, 83, 6, 1, 6964, 10, 689, 5, 79, 1519, 3, 312, 10, 220, 1, 412, 9, 73, 4, 1464, 3900, 836, 7, 3936, 212, 1, 422, 2, 10, 1304, 0, 0, 40, 0, 2012, 3, 145, 381, 384, 90, 0, 90, 10, 169, 162, 7, 9373, 36, 6, 148, 5847, 3, 0, 90, 9491, 7, 0, 2012, 3, 10, 561, 12, 130, 1528, 6, 82, 641, 118, 12, 0, 2012, 8, 259, 4345, 3, 257, 4, 2546, 12, 11, 8, 29, 38]\n",
      "length of sentence0: 165.0\n",
      "\n",
      "sentence1: [0, 26, 52, 0, 20, 750, 0, 3669, 28, 50, 91, 42, 1913, 22, 174, 25, 132, 4, 1636, 7, 365, 177, 27, 1, 1368, 12, 74, 353, 1187, 453, 43, 84, 347, 45, 183, 7, 422, 2, 178, 2, 52, 2417, 22, 1, 602, 3, 968, 96, 118, 6, 1, 3434, 20, 54, 4, 516, 1320, 194, 9407, 49, 211, 160, 20, 3419, 2, 1, 483, 27, 5241, 2, 0, 372, 7, 3595, 2, 2265, 2, 1, 0, 2, 0, 2, 52, 9407, 77, 46, 267, 35, 439, 7, 152, 64, 27, 1, 0, 18, 779, 65, 77, 30, 74, 391, 4, 2241, 7, 469, 27, 1, 2559, 22, 4, 3463, 248, 1, 0, 30, 353, 72, 45, 4, 392, 2, 1, 791, 752, 2, 4, 4470, 2, 1463, 27, 1, 1718, 2, 4, 1256, 2, 5, 347, 30, 353, 2987, 7, 78, 65, 11, 15, 44, 7, 35, 3434, 57, 281, 8, 0, 0, 15, 0, 18, 0, 2917, 26, 43, 4477, 28, 43, 417, 20, 0, 311, 4, 1104, 161, 43, 50, 347, 9, 1, 230, 388, 7632, 7, 106, 4, 2241, 21, 4, 0, 3096, 26, 0, 0, 28, 7, 78, 77, 37, 68, 469, 9, 1, 2559, 22, 3542, 566, 248, 1, 0, 128, 77, 0, 3099, 2, 37, 68, 56, 65, 37, 508, 21, 4, 766, 1325, 6, 254, 60, 4698, 3, 24, 2241, 15, 27, 142, 0, 8, 1413, 27, 1, 1368, 21, 4, 0, 27, 34, 4799, 7, 0, 34, 205, 904, 142, 37, 199, 29, 1631, 141, 1, 0, 3, 154, 15, 391, 1, 0, 0, 39, 4, 0, 138, 11, 15, 427, 27, 34, 0, 142, 0, 905, 97, 119, 620, 4, 269, 39, 1, 440, 6, 5285, 26, 0, 1915, 4088, 28, 42, 1324, 16, 3733, 43, 198, 4938, 191, 2617, 48, 392, 2, 5, 48, 9760, 0, 26, 2077, 4973, 28, 5, 0, 26, 0, 2611, 28, 43, 31, 492, 359, 7, 1, 2559, 3, 235, 203, 5511, 3, 0, 8, 29, 3, 154, 15, 32, 359, 7, 4998, 7069, 0, 44, 37, 353, 84, 70, 131, 1104, 142, 11, 15, 599, 52, 3635, 2, 604, 52, 35, 0, 18, 2143, 1, 139, 2242, 215, 5285, 5, 0, 17, 29, 1836, 7, 122, 2, 10, 272, 13, 1761, 0, 13, 7, 35, 36, 6, 3802, 2917, 53, 0, 123, 142, 2792, 7, 131, 4, 231, 2, 11, 307, 4, 4680, 541, 1174, 7, 34, 2720, 178, 160, 20, 0, 0, 2, 1466, 4864, 2, 52, 0, 22, 1, 602, 2, 7, 137, 65, 11, 15, 44, 316, 164, 5056, 191, 2617, 11, 1, 439, 295, 52, 27, 1, 97, 558, 254, 4, 410, 2241, 44, 41, 1104, 96, 56, 70, 46, 56, 29, 135, 65, 7, 56, 21, 79, 299, 3, 842, 46, 153, 226, 11, 7, 1, 3434, 418, 6, 841, 11, 44, 0, 9753, 18, 0, 454, 14, 23, 99, 6417, 30, 7, 365, 455, 3]\n",
      "length of sentence1: 490.0\n",
      "\n"
     ]
    }
   ],
   "source": [
    "def t2i(x):\n",
    "    return vocab[x[0]], x[1]\n",
    "\n",
    "pool = mp.Pool()\n",
    "train_dataset = pool.map(t2i, train_dataset)\n",
    "test_dataset = pool.map(t2i, test_dataset)\n",
    "pool.close()\n",
    "print(\"sentence0: {}\\nlength of sentence0: {}\\n\".format(train_dataset[0][0][:], train_data_lengths[0]))\n",
    "print(\"sentence1: {}\\nlength of sentence1: {}\\n\".format(train_dataset[1][0][:], train_data_lengths[1]))\n"
   ]
  },
  {
   "cell_type": "code",
   "execution_count": 33,
   "metadata": {},
   "outputs": [],
   "source": [
    "batch_size = 100\n",
    "train_data_loader = gluon.data.DataLoader(dataset=train_dataset, shuffle=True, batchify_fn=batcify_fn, \n",
    "                                                          batch_size=batch_size, last_batch='rollover')\n",
    "test_data_loader = gluon.data.DataLoader(dataset=test_dataset, shuffle=False, batchify_fn=batcify_fn,\n",
    "                                                            batch_size=batch_size, last_batch='rollover')\n"
   ]
  },
  {
   "cell_type": "code",
   "execution_count": 47,
   "metadata": {},
   "outputs": [],
   "source": [
    "sns.set(color_codes=True)"
   ]
  },
  {
   "cell_type": "code",
   "execution_count": 54,
   "metadata": {},
   "outputs": [
    {
     "data": {
      "text/plain": [
       "<matplotlib.axes._subplots.AxesSubplot at 0x7fd77deaed30>"
      ]
     },
     "execution_count": 54,
     "metadata": {},
     "output_type": "execute_result"
    },
    {
     "data": {
      "image/png": "[encoded data removed]",
      "text/plain": [
       "<Figure size 432x288 with 1 Axes>"
      ]
     },
     "metadata": {},
     "output_type": "display_data"
    }
   ],
   "source": [
    "sns.distplot(train_data_lengths[:], bins=20, hist=True, rug=True)"
   ]
  },
  {
   "cell_type": "code",
   "execution_count": 107,
   "metadata": {},
   "outputs": [],
   "source": [
    "from gluonnlp.data import batchify as bf\n",
    "batcify_fn = bf.Tuple(bf.Pad(axis=0), bf.Stack())"
   ]
  },
  {
   "cell_type": "code",
   "execution_count": 108,
   "metadata": {},
   "outputs": [
    {
     "data": {
      "text/plain": [
       "(\n",
       " [[ 1  2  3  0  0  0  0  0]\n",
       "  [ 4  5  0  0  0  0  0  0]\n",
       "  [ 6  7  8  9 10 11 12 13]]\n",
       " <NDArray 3x8 @cpu_shared(0)>, \n",
       " [0 1 1]\n",
       " <NDArray 3 @cpu_shared(0)>)"
      ]
     },
     "execution_count": 108,
     "metadata": {},
     "output_type": "execute_result"
    }
   ],
   "source": [
    "a = ([1,2,3], 0)\n",
    "b = ([4,5], 1)\n",
    "c = ([6,7,8,9,10,11,12,13], 1)\n",
    "batcify_fn([a,b,c])"
   ]
  },
  {
   "cell_type": "code",
   "execution_count": 55,
   "metadata": {},
   "outputs": [],
   "source": [
    "batch_sampler = nlp.data.sampler.FixedBucketSampler(train_data_lengths, \n",
    "                                                    batch_size=100, \n",
    "                                                    num_buckets=20, \n",
    "                                                    shuffle=True)"
   ]
  },
  {
   "cell_type": "code",
   "execution_count": 60,
   "metadata": {},
   "outputs": [
    {
     "name": "stdout",
     "output_type": "stream",
     "text": [
      "FixedBucketSampler:\n",
      "  sample_num=25000, batch_num=261\n",
      "  key=[44, 68, 92, 116, 140, 164, 188, 212, 236, 260, 284, 308, 332, 356, 380, 404, 428, 452, 476, 500]\n",
      "  cnt=[139, 842, 955, 1003, 2278, 3408, 2585, 2029, 1559, 1254, 1075, 925, 766, 645, 605, 524, 468, 376, 354, 3210]\n",
      "  batch_size=[100, 100, 100, 100, 100, 100, 100, 100, 100, 100, 100, 100, 100, 100, 100, 100, 100, 100, 100, 100]\n"
     ]
    }
   ],
   "source": [
    "print(batch_sampler.stats())"
   ]
  },
  {
   "cell_type": "code",
   "execution_count": 61,
   "metadata": {},
   "outputs": [
    {
     "name": "stdout",
     "output_type": "stream",
     "text": [
      "FixedBucketSampler:\n",
      "  sample_num=25000, batch_num=210\n",
      "  key=[44, 68, 92, 116, 140, 164, 188, 212, 236, 260, 284, 308, 332, 356, 380, 404, 428, 452, 476, 500]\n",
      "  cnt=[139, 842, 955, 1003, 2278, 3408, 2585, 2029, 1559, 1254, 1075, 925, 766, 645, 605, 524, 468, 376, 354, 3210]\n",
      "  batch_size=[568, 367, 271, 215, 178, 152, 132, 117, 105, 100, 100, 100, 100, 100, 100, 100, 100, 100, 100, 100]\n"
     ]
    }
   ],
   "source": [
    "batch_sampler = nlp.data.sampler.FixedBucketSampler(train_data_lengths, \n",
    "                                                    batch_size=100, \n",
    "                                                    num_buckets=20, \n",
    "                                                    shuffle=True,\n",
    "                                                    ratio=.5)\n",
    "print(batch_sampler.stats())"
   ]
  },
  {
   "cell_type": "code",
   "execution_count": null,
   "metadata": {},
   "outputs": [],
   "source": [
    "train_data_loader = gluon.data.DataLoader(train_dataset, batch_sampler=batch_sampler, batchify_fn=batcify_fn)"
   ]
  }
 ],
 "metadata": {
  "celltoolbar": "Slideshow",
  "kernelspec": {
   "display_name": "Environment (conda_mxnet_p36)",
   "language": "python",
   "name": "conda_mxnet_p36"
  },
  "language_info": {
   "codemirror_mode": {
    "name": "ipython",
    "version": 3
   },
   "file_extension": ".py",
   "mimetype": "text/x-python",
   "name": "python",
   "nbconvert_exporter": "python",
   "pygments_lexer": "ipython3",
   "version": "3.6.4"
  }
 },
 "nbformat": 4,
 "nbformat_minor": 2
}
