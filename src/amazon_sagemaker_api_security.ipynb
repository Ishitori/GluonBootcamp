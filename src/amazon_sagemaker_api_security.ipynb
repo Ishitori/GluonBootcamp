{
 "cells": [
  {
   "cell_type": "markdown",
   "metadata": {},
   "source": [
    "Use of environment variables requires update to latest boto version.\n",
    "\n",
    "Run the following commands in SageMaker terminal for your environment.\n",
    "\n",
    "`/home/ec2-user/anaconda3/envs/{envname}/bin/pip install botocore --upgrade`\n",
    "\n",
    "\n",
    "`/home/ec2-user/anaconda3/envs/{envname}/bin/pip install boto3 --upgrade`"
   ]
  },
  {
   "cell_type": "code",
   "execution_count": null,
   "metadata": {},
   "outputs": [],
   "source": [
    "import boto3\n",
    "\n",
    "sage = boto3.client('sagemaker')\n",
    "\n",
    "model_name=\"image-classification-model\"\n",
    "model_data = 's3://cpdemo-eu-west-1/squeezenet.tar.gz'\n",
    "hosting_image = '685385470294.dkr.ecr.eu-west-1.amazonaws.com/image-classification:latest'\n",
    "role = 'arn:aws:iam::xxxxxxxxxxx:role/service-role/AmazonSageMaker-ExecutionRole'\n",
    "environment = 'stage'\n",
    "\n",
    "primary_container = {\n",
    "    'Image': hosting_image,\n",
    "    'ModelDataUrl': model_data,\n",
    "    'Environment' : {\n",
    "        'Deployment' : environment,\n",
    "    }\n",
    "    \n",
    "}\n",
    "\n",
    "create_model_response = sage.create_model(\n",
    "    ModelName = model_name,\n",
    "    ExecutionRoleArn = role,\n",
    "    PrimaryContainer = primary_container)\n",
    "\n",
    "print(create_model_response['ModelArn'])\n"
   ]
  },
  {
   "cell_type": "code",
   "execution_count": null,
   "metadata": {},
   "outputs": [],
   "source": [
    "import boto3\n",
    "\n",
    "runtime = boto3.client('runtime.sagemaker')\n",
    "\n",
    "file_name = '/tmp/test.jpg'\n",
    "\n",
    "with open(file_name, 'rb') as f:\n",
    "    payload = f.read()\n",
    "    payload = bytearray(payload)\n",
    "\n",
    "endpoint_name = 'image-classification'\n",
    "    \n",
    "response = runtime.invoke_endpoint(EndpointName=endpoint_name, \n",
    "                                   ContentType='application/x-image', \n",
    "                                   Body=payload)\n",
    "result = response['Body'].read()\n",
    "print (result)\n"
   ]
  },
  {
   "cell_type": "code",
   "execution_count": null,
   "metadata": {},
   "outputs": [],
   "source": [
    "import json\n",
    "import numpy as np\n",
    "with open(file_name, 'rb') as f:\n",
    "    payload = f.read()\n",
    "    payload = bytearray(payload)\n",
    "\n",
    "endpoint_name = 'image-classification'\n",
    "    \n",
    "response = runtime.invoke_endpoint(EndpointName=endpoint_name, \n",
    "                                   ContentType='application/x-image', \n",
    "                                   Body=payload)\n",
    "result = response['Body'].read()"
   ]
  },
  {
   "cell_type": "code",
   "execution_count": null,
   "metadata": {},
   "outputs": [],
   "source": []
  }
 ],
 "metadata": {
  "kernelspec": {
   "display_name": "conda_python3",
   "language": "python",
   "name": "conda_python3"
  },
  "language_info": {
   "codemirror_mode": {
    "name": "ipython",
    "version": 3
   },
   "file_extension": ".py",
   "mimetype": "text/x-python",
   "name": "python",
   "nbconvert_exporter": "python",
   "pygments_lexer": "ipython3",
   "version": "3.6.4"
  }
 },
 "nbformat": 4,
 "nbformat_minor": 2
}
