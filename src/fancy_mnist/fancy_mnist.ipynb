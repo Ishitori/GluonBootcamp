{
 "cells": [
  {
   "cell_type": "code",
   "execution_count": 1,
   "metadata": {},
   "outputs": [],
   "source": [
    "%load_ext autoreload\n",
    "%autoreload 2"
   ]
  },
  {
   "cell_type": "code",
   "execution_count": 2,
   "metadata": {},
   "outputs": [],
   "source": [
    "import sys\n",
    "sys.path.insert(0, 'src')\n",
    "from train import Train\n",
    "from data_iter import DataIterBuilder\n",
    "from network import Network\n",
    "import mxnet as mx\n",
    "import GPUtil"
   ]
  },
  {
   "cell_type": "code",
   "execution_count": 3,
   "metadata": {},
   "outputs": [
    {
     "name": "stdout",
     "output_type": "stream",
     "text": [
      "EVAL METRICS: EvalMetric: {'rmse': nan, 'accuracy': nan}\n",
      "\n",
      "EPOCH:0; TRAIN_DATA: BATCH:99; Metrics:[('rmse', 5.5656765945226763), ('accuracy', 0.84896341463414637)]\n",
      "EPOCH:0; TEST_DATA: BATCH:99; Metrics:[('rmse', 5.5656765945226763), ('accuracy', 0.84896341463414637)]\n",
      "\n",
      "EPOCH:0; TRAIN_DATA: BATCH:199; Metrics:[('rmse', 5.7512240252142286), ('accuracy', 0.87753048780487808)]\n",
      "EPOCH:0; TEST_DATA: BATCH:199; Metrics:[('rmse', 5.7512240252142286), ('accuracy', 0.87753048780487808)]\n",
      "\n",
      "EPOCH:0; TRAIN_DATA: BATCH:299; Metrics:[('rmse', 5.8699270649178947), ('accuracy', 0.89243902439024392)]\n",
      "EPOCH:0; TEST_DATA: BATCH:299; Metrics:[('rmse', 5.8699270649178947), ('accuracy', 0.89243902439024392)]\n",
      "\n",
      "EPOCH:0; TRAIN_DATA: BATCH:399; Metrics:[('rmse', 5.952245017433909), ('accuracy', 0.90314024390243908)]\n",
      "EPOCH:0; TEST_DATA: BATCH:399; Metrics:[('rmse', 5.952245017433909), ('accuracy', 0.90314024390243908)]\n",
      "\n",
      "EPOCH:0; TRAIN_DATA: BATCH:499; Metrics:[('rmse', 6.0366208788949693), ('accuracy', 0.91104878048780491)]\n",
      "EPOCH:0; TEST_DATA: BATCH:499; Metrics:[('rmse', 6.0366208788949693), ('accuracy', 0.91104878048780491)]\n",
      "\n",
      "EPOCH:0; TRAIN_DATA: BATCH:599; Metrics:[('rmse', 6.1167638954330821), ('accuracy', 0.9170121951219512)]\n",
      "EPOCH:0; TEST_DATA: BATCH:599; Metrics:[('rmse', 6.1167638954330821), ('accuracy', 0.9170121951219512)]\n",
      "\n",
      "EPOCH:0; TRAIN_DATA: BATCH:699; Metrics:[('rmse', 6.176573627985074), ('accuracy', 0.9221864111498258)]\n",
      "EPOCH:0; TEST_DATA: BATCH:699; Metrics:[('rmse', 6.176573627985074), ('accuracy', 0.9221864111498258)]\n",
      "\n",
      "EPOCH:0; TRAIN_DATA: BATCH:799; Metrics:[('rmse', 6.2248829127749579), ('accuracy', 0.92601371951219513)]\n",
      "EPOCH:0; TEST_DATA: BATCH:799; Metrics:[('rmse', 6.2248829127749579), ('accuracy', 0.92601371951219513)]\n",
      "\n",
      "EPOCH:0; TRAIN_DATA: BATCH:899; Metrics:[('rmse', 6.2716132158641429), ('accuracy', 0.92959349593495932)]\n",
      "EPOCH:0; TEST_DATA: BATCH:899; Metrics:[('rmse', 6.2716132158641429), ('accuracy', 0.92959349593495932)]\n"
     ]
    }
   ],
   "source": [
    "data_iter = DataIterBuilder()\n",
    "train_iter, test_iter = data_iter.get_data_iter(mode='mnist')\n",
    "network = Network()\n",
    "a = network.network.collect_params()\n",
    "ctx_list = [mx.gpu(i) for i in range(len(GPUtil.getAvailable()))]\n",
    "t = Train(ctx_list=ctx_list, train_iter=train_iter, test_iter=test_iter, network=network)\n",
    "print(\"EVAL METRICS: {}\".format(t.eval_metrics))\n",
    "\n",
    "t.train(num_epocs=1)"
   ]
  },
  {
   "cell_type": "code",
   "execution_count": 5,
   "metadata": {},
   "outputs": [
    {
     "name": "stdout",
     "output_type": "stream",
     "text": [
      "{'rmse': [6.2776184757432247], 'rmse_val': [6.2776184757432247]}\n",
      "{'accuracy': [0.93000000000000005], 'accuracy_val': [0.93000000000000005]}\n",
      "PATH: ['/home/ec2-user/SageMaker/GluonBootcamp/src/fancy_mnist/rmse-plot.png', '/home/ec2-user/SageMaker/GluonBootcamp/src/fancy_mnist/accuracy-plot.png']\n"
     ]
    },
    {
     "data": {
      "image/png": "[encoded data removed]",
      "text/plain": [
       "<Figure size 432x288 with 1 Axes>"
      ]
     },
     "metadata": {},
     "output_type": "display_data"
    },
    {
     "data": {
      "image/png": "[encoded data removed]",
      "text/plain": [
       "<Figure size 432x288 with 1 Axes>"
      ]
     },
     "metadata": {},
     "output_type": "display_data"
    }
   ],
   "source": [
    "for th in t.training_history_list.trainings_histories:\n",
    "    print(th.history)\n",
    "t.training_history_list.plot()\n"
   ]
  },
  {
   "cell_type": "markdown",
   "metadata": {
    "slideshow": {
     "slide_type": "slide"
    }
   },
   "source": [
    "# Challenges:\n",
    "1. Develop a custom metric of your choosing\n",
    "2. Add your metrics to your set of metrics\n",
    "3. run the code on more than one GPU and time the training time\n",
    "4. Use fashion mnist instead of mnist\n",
    "5. increase batch size to 1000 and check the results\n",
    "6. use the appropriate optimization algorithms for large batch size and compare results"
   ]
  },
  {
   "cell_type": "code",
   "execution_count": null,
   "metadata": {},
   "outputs": [],
   "source": []
  },
  {
   "cell_type": "code",
   "execution_count": null,
   "metadata": {},
   "outputs": [],
   "source": []
  },
  {
   "cell_type": "code",
   "execution_count": null,
   "metadata": {},
   "outputs": [],
   "source": []
  },
  {
   "cell_type": "code",
   "execution_count": null,
   "metadata": {},
   "outputs": [],
   "source": []
  }
 ],
 "metadata": {
  "kernelspec": {
   "display_name": "conda_mxnet_p36",
   "language": "python",
   "name": "conda_mxnet_p36"
  },
  "language_info": {
   "codemirror_mode": {
    "name": "ipython",
    "version": 3
   },
   "file_extension": ".py",
   "mimetype": "text/x-python",
   "name": "python",
   "nbconvert_exporter": "python",
   "pygments_lexer": "ipython3",
   "version": "3.6.4"
  }
 },
 "nbformat": 4,
 "nbformat_minor": 2
}
