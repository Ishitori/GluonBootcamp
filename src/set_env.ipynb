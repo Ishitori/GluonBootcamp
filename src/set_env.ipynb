{
 "cells": [
  {
   "cell_type": "code",
   "execution_count": 6,
   "metadata": {},
   "outputs": [
    {
     "name": "stdout",
     "output_type": "stream",
     "text": [
      "Requirement already satisfied: notedown in /home/ec2-user/anaconda3/envs/mxnet_p36/lib/python3.6/site-packages (1.5.1)\n",
      "Requirement already satisfied: nbconvert in /home/ec2-user/anaconda3/envs/mxnet_p36/lib/python3.6/site-packages (from notedown) (5.3.1)\n",
      "Requirement already satisfied: pandoc-attributes in /home/ec2-user/anaconda3/envs/mxnet_p36/lib/python3.6/site-packages (from notedown) (0.1.7)\n",
      "Requirement already satisfied: nbformat in /home/ec2-user/anaconda3/envs/mxnet_p36/lib/python3.6/site-packages (from notedown) (4.4.0)\n",
      "Requirement already satisfied: six in /home/ec2-user/anaconda3/envs/mxnet_p36/lib/python3.6/site-packages (from notedown) (1.11.0)\n",
      "Requirement already satisfied: mistune>=0.7.4 in /home/ec2-user/anaconda3/envs/mxnet_p36/lib/python3.6/site-packages (from nbconvert->notedown) (0.8.3)\n",
      "Requirement already satisfied: jinja2 in /home/ec2-user/anaconda3/envs/mxnet_p36/lib/python3.6/site-packages (from nbconvert->notedown) (2.10)\n",
      "Requirement already satisfied: pygments in /home/ec2-user/anaconda3/envs/mxnet_p36/lib/python3.6/site-packages (from nbconvert->notedown) (2.2.0)\n",
      "Requirement already satisfied: traitlets>=4.2 in /home/ec2-user/anaconda3/envs/mxnet_p36/lib/python3.6/site-packages (from nbconvert->notedown) (4.3.2)\n",
      "Requirement already satisfied: jupyter_core in /home/ec2-user/anaconda3/envs/mxnet_p36/lib/python3.6/site-packages (from nbconvert->notedown) (4.4.0)\n",
      "Requirement already satisfied: entrypoints>=0.2.2 in /home/ec2-user/anaconda3/envs/mxnet_p36/lib/python3.6/site-packages (from nbconvert->notedown) (0.2.3)\n",
      "Requirement already satisfied: bleach in /home/ec2-user/anaconda3/envs/mxnet_p36/lib/python3.6/site-packages (from nbconvert->notedown) (2.1.3)\n",
      "Requirement already satisfied: pandocfilters>=1.4.1 in /home/ec2-user/anaconda3/envs/mxnet_p36/lib/python3.6/site-packages (from nbconvert->notedown) (1.4.2)\n",
      "Requirement already satisfied: testpath in /home/ec2-user/anaconda3/envs/mxnet_p36/lib/python3.6/site-packages (from nbconvert->notedown) (0.3.1)\n",
      "Requirement already satisfied: ipython_genutils in /home/ec2-user/anaconda3/envs/mxnet_p36/lib/python3.6/site-packages (from nbformat->notedown) (0.2.0)\n",
      "Requirement already satisfied: jsonschema!=2.5.0,>=2.4 in /home/ec2-user/anaconda3/envs/mxnet_p36/lib/python3.6/site-packages (from nbformat->notedown) (2.6.0)\n",
      "Requirement already satisfied: MarkupSafe>=0.23 in /home/ec2-user/anaconda3/envs/mxnet_p36/lib/python3.6/site-packages (from jinja2->nbconvert->notedown) (1.0)\n",
      "Requirement already satisfied: decorator in /home/ec2-user/anaconda3/envs/mxnet_p36/lib/python3.6/site-packages (from traitlets>=4.2->nbconvert->notedown) (4.3.0)\n",
      "Requirement already satisfied: html5lib!=1.0b1,!=1.0b2,!=1.0b3,!=1.0b4,!=1.0b5,!=1.0b6,!=1.0b7,!=1.0b8,>=0.99999999pre in /home/ec2-user/anaconda3/envs/mxnet_p36/lib/python3.6/site-packages (from bleach->nbconvert->notedown) (1.0.1)\n",
      "Requirement already satisfied: webencodings in /home/ec2-user/anaconda3/envs/mxnet_p36/lib/python3.6/site-packages (from html5lib!=1.0b1,!=1.0b2,!=1.0b3,!=1.0b4,!=1.0b5,!=1.0b6,!=1.0b7,!=1.0b8,>=0.99999999pre->bleach->nbconvert->notedown) (0.5.1)\n",
      "\u001b[31mmxnet-model-server 0.1.5 requires mxnet>=0.11.0, which is not installed.\u001b[0m\n",
      "\u001b[31mdistributed 1.21.8 requires msgpack, which is not installed.\u001b[0m\n"
     ]
    }
   ],
   "source": [
    "!pip install notedown"
   ]
  },
  {
   "cell_type": "code",
   "execution_count": 7,
   "metadata": {},
   "outputs": [],
   "source": [
    "import mxnet as mx"
   ]
  },
  {
   "cell_type": "code",
   "execution_count": 8,
   "metadata": {},
   "outputs": [
    {
     "data": {
      "text/plain": [
       "'1.2.0'"
      ]
     },
     "execution_count": 8,
     "metadata": {},
     "output_type": "execute_result"
    }
   ],
   "source": [
    "mx.__version__"
   ]
  },
  {
   "cell_type": "code",
   "execution_count": 10,
   "metadata": {},
   "outputs": [
    {
     "name": "stdout",
     "output_type": "stream",
     "text": [
      "Cloning into 'gluon-crash-course'...\n",
      "remote: Counting objects: 234, done.\u001b[K\n",
      "remote: Total 234 (delta 0), reused 0 (delta 0), pack-reused 234\u001b[K\n",
      "Receiving objects: 100% (234/234), 2.02 MiB | 3.65 MiB/s, done.\n",
      "Resolving deltas: 100% (110/110), done.\n"
     ]
    }
   ],
   "source": [
    "!git clone https://github.com/mli/gluon-crash-course.git"
   ]
  },
  {
   "cell_type": "code",
   "execution_count": 24,
   "metadata": {},
   "outputs": [
    {
     "ename": "FileNotFoundError",
     "evalue": "[Errno 2] No such file or directory: 'gluon-crash-course/'",
     "output_type": "error",
     "traceback": [
      "\u001b[0;31m---------------------------------------------------------------------------\u001b[0m",
      "\u001b[0;31mFileNotFoundError\u001b[0m                         Traceback (most recent call last)",
      "\u001b[0;32m<ipython-input-24-0ad9070f98c4>\u001b[0m in \u001b[0;36m<module>\u001b[0;34m()\u001b[0m\n\u001b[1;32m      1\u001b[0m \u001b[0;32mimport\u001b[0m \u001b[0mos\u001b[0m\u001b[0;34m\u001b[0m\u001b[0m\n\u001b[0;32m----> 2\u001b[0;31m \u001b[0mos\u001b[0m\u001b[0;34m.\u001b[0m\u001b[0mchdir\u001b[0m\u001b[0;34m(\u001b[0m\u001b[0;34m'gluon-crash-course/'\u001b[0m\u001b[0;34m)\u001b[0m\u001b[0;34m\u001b[0m\u001b[0m\n\u001b[0m\u001b[1;32m      3\u001b[0m \u001b[0mos\u001b[0m\u001b[0;34m.\u001b[0m\u001b[0mgetcwd\u001b[0m\u001b[0;34m(\u001b[0m\u001b[0;34m)\u001b[0m\u001b[0;34m\u001b[0m\u001b[0m\n",
      "\u001b[0;31mFileNotFoundError\u001b[0m: [Errno 2] No such file or directory: 'gluon-crash-course/'"
     ]
    }
   ],
   "source": [
    "import os\n",
    "os.chdir('gluon-crash-course/')\n",
    "os.getcwd()"
   ]
  },
  {
   "cell_type": "code",
   "execution_count": 20,
   "metadata": {},
   "outputs": [
    {
     "name": "stdout",
     "output_type": "stream",
     "text": [
      "['autograd.md', 'README.md', '.git', 'mxnet_packages.md', 'use_gpus.md', 'use_aws.ipynb', 'nn.md', 'predict.md', 'ndarray.ipynb', 'ndarray.md', 'predict.ipynb', 'Makefile', 'img', 'train.md', 'README.ipynb', 'mxnet_packages.ipynb', 'build', '.gitignore', 'use_aws.md', 'autograd.ipynb', 'train.ipynb', 'index.md', 'index.ipynb', 'nn.ipynb', 'use_gpus.ipynb']\n",
      "<built-in function getcwd>\n"
     ]
    }
   ],
   "source": [
    "!for i in $(ls *.md); do name=$(echo \"$i\" | cut -f 1 -d '.'); notedown $i --to notebook > $name.ipynb; done"
   ]
  },
  {
   "cell_type": "code",
   "execution_count": 27,
   "metadata": {},
   "outputs": [
    {
     "name": "stdout",
     "output_type": "stream",
     "text": [
      "gluon-crash-course  README.MD\t   simple_mlp.py\n",
      "mnist_mlp.py\t    set_env.ipynb  utilities.py\n",
      "/home/ec2-user/SageMaker\n",
      "amazon-sagemaker-examples  linear_learner_blog\tmxnet-the-straight-dope\n",
      "experiements\t\t   lost+found\t\tOxfordWorkshop\n",
      "GluonBootcamp\t\t   LSTNet-Gluon\t\tsample-notebooks\n"
     ]
    }
   ],
   "source": [
    "!ls\n",
    "os.chdir('..')\n",
    "print(os.getcwd())\n",
    "!ls"
   ]
  },
  {
   "cell_type": "code",
   "execution_count": null,
   "metadata": {},
   "outputs": [],
   "source": []
  }
 ],
 "metadata": {
  "kernelspec": {
   "display_name": "conda_mxnet_p36",
   "language": "python",
   "name": "conda_mxnet_p36"
  },
  "language_info": {
   "codemirror_mode": {
    "name": "ipython",
    "version": 3
   },
   "file_extension": ".py",
   "mimetype": "text/x-python",
   "name": "python",
   "nbconvert_exporter": "python",
   "pygments_lexer": "ipython3",
   "version": "3.6.4"
  }
 },
 "nbformat": 4,
 "nbformat_minor": 2
}
