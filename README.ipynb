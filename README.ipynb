{
 "cells": [
  {
   "cell_type": "markdown",
   "metadata": {},
   "source": [
    "# MXNet/Gluon Bootcamp\n",
    "\n",
    "## Setup\n",
    "\n",
    "Since this repository contains submodules use the following command to clone:\n",
    "\n",
    "`git clone --recurse-submodules https://github.com/cyrusmvahid/GluonBootcamp.git`\n",
    "\n",
    "## Schedule\n",
    "\n",
    "### Day 1\n",
    "| Title | Description | Duration | Presenter| \n",
    "|:---    |:---   |:---         |:---      |\n",
    "|MXNet & Gluon Overview|An overview of MXNet architecture and components|30 mins|Thom|\n",
    "|SageMaker Setup|Get configured for the day ahead|15 mins|Christian|\n",
    "|[Crash Course (LAB)](labs/gluon_crash_course)|Walkthrough of core Gluon components, and use them to create and train a convolutional neural network|120 mins|Thom & Cyrus|\n",
    "|Custom DataSets and DataLoaders|Create customized DataSets and DataLoaders for various data types|30 mins|Thom|\n",
    "|[Multi GPU Training (LAB)](labs/multiple_gpus_gluon/multiple_gpus_gluon.ipynb)|An introduction to training using multiple GPUs in Gluon, and hands on lab |60 mins|Eden|\n",
    "|Multi Host Training|A deeper dive into cluster setup, sizing, optimization algorithms, and other considerations for distributed training|60 mins|Eden & Cyrus|\n",
    "|SageMaker Deep-Dive|A deep-dive into SageMaker SDK and security model|30 mins|Christian|\n",
    "|SageMaker DevOps|A deep dive into how to integrate SageMaker into development pipeline for teams of data scientists|30 mins|Christian|\n",
    "|[Multi Host Training with SageMaker (LAB)](labs/distributed_training_gluon/distributed_training_gluon.ipynb)|Participants learn the simple steps to training using a cluster with Gluon and Amazon Sagemaker|30 mins|Eden|\n",
    "\n",
    "### Day2\n",
    "| Title | Description | Duration | Presenter| \n",
    "|:---    |:---   |:---         |:---      |\n",
    "|Deep Learning AMI Setup|An introduction to DLAMI and get configured for the day ahead|30 mins|Christian|\n",
    "|Beyond the Defaults|Use simple regression model we take a look at alternatives for initialization, optimization and evaluation.|30 mins|Cyrus|\n",
    "|MXBoard|Using MXNet with Tensorboard to monitor training|30 mins|Thom|\n",
    "|GluonNLP|Walk through of key motivations and features of the GluonNLP toolkit.|30 mins|Cyrus|\n",
    "|Stacked Bidirectional LSTM (LAB)|We work up from plain RNN to Stacked Bi-directional LSTMs using Gluon layers|60 mins|Thom|\n",
    "|LSTM Model (LAB)|Participant in this section implement a simple LSTM network|60 mins|Cyrus|\n",
    "|LSTNet Theory|This section describes theory of Long and Short Term Temporal Patterns with Deep Neural Networks|30 mins|Cyrus|\n",
    "|LSTNet Implementation (LAB)|While referencing the paper, we construct the LSTNet model and train on multi-gpu|90 mins|Thom|\n",
    "|LSTNet Multi GPU (LAB)|Scale training of LSTNet model with Multi GPU|30 mins|Cyrus|\n",
    "\n",
    "### Day3\n",
    "| Title | Description | Duration | Presenter| \n",
    "|:---    |:---   |:---         |:---      |\n",
    "|Profiling MXNet|Analysis of runtime code to identify performance bottlenecks|30 mins|Thom|\n",
    "|[Moving LSTNet to SageMaker (LAB)](labs/porting_lstnet_to_sagemaker/porting_lstnet_to_sagemaker.ipynb)|THe LSTNet code will be ported to train on Amazon SageMaker using the Python SDK|90 mins|Eden|\n",
    "|[Distributed LSTNet on SageMaker (LAB)](labs/lstnet_multi_gpu_distributed/lstnet_multi_gpu_distributed.ipynb)|Participants will speed up the training of the LSTNet model with data distribution across multiple GPUs and hosts|30 mins|Eden|\n",
    "|SageMaker Automatic Model Tuning|A look at SageMaker's hyperparameter optimization features|60 mins|Thom|\n",
    "|[Deploying with SageMaker (LAB)](labs/deploying_endpoint/deploying_endpoint.ipynb)|We discover three scenarios, Deploying a model developed in SageMaker, Deploying model artefacts from S3, and deploying model artefacts from docker image|60 mins|Eden|\n",
    "|MXNet on Edge with Raspberry PI|We demonstrate a simple model that runs on Raspberry PI 3|30 min|Christian|\n",
    "|MXNet on Edge with Amazon Greengrass|IWe demonstrate deployment of a simple CV model on Amazon GreenGrass using Lambda|30 mins|Christian|\n",
    "|Keras-MXNet 2 (LAB)|We use Keras to implement a bi-directional LSTM using Keras and the MXNet backend|30 mins|Cyrus|\n",
    "|GluonCV toolkit|Walk through of key features of the GluonCV toolkit, with demo.|30 mins|Thom|\n",
    "\n",
    "### Day4\n",
    "| Title | Description | Duration | Presenter| \n",
    "|:---    |:---   |:---         |:---      |\n",
    "|Gluon project structure|Suggestions on how you can organize your MXNet Gluon projects.|30 mins|Cyrus|\n",
    "|Hackathon|A project based on bi-directional LSTM will be implemented to incorporate all the material from the first three days. If participants have prepared datasets of significant size we attempt to optimize the distributed training for large batch sizes|6.5 hours|All|"
   ]
  },
  {
   "cell_type": "code",
   "execution_count": 5,
   "metadata": {},
   "outputs": [],
   "source": [
    "## Convert to markdown\n",
    "# !notedown README.ipynb --to markdown > README.MD"
   ]
  },
  {
   "cell_type": "code",
   "execution_count": 2,
   "metadata": {},
   "outputs": [],
   "source": [
    "## Convert to slides\n",
    "# jupyter nbconvert <your notebook> --to slides --reveal-prefix reveal.js\n",
    "## then copy the html file to `slides/note2slides` containing reveal.js"
   ]
  },
  {
   "cell_type": "code",
   "execution_count": null,
   "metadata": {},
   "outputs": [],
   "source": []
  }
 ],
 "metadata": {
  "kernelspec": {
   "display_name": "Python 3",
   "language": "python",
   "name": "python3"
  },
  "language_info": {
   "codemirror_mode": {
    "name": "ipython",
    "version": 3
   },
   "file_extension": ".py",
   "mimetype": "text/x-python",
   "name": "python",
   "nbconvert_exporter": "python",
   "pygments_lexer": "ipython3",
   "version": "3.6.4"
  }
 },
 "nbformat": 4,
 "nbformat_minor": 2
}
