{
 "cells": [
  {
   "cell_type": "markdown",
   "metadata": {},
   "source": [
    "# MXNet/Gluon Bootcamp\n",
    "## Fundamentals\n",
    "\n",
    "\n",
    "| Mod ID | Title | Description | Duration | \n",
    "|:---    |:---   |:---         |:---      |\n",
    "| mod00 | [Gluon Crash Ccourse](gluon-crash-course) | This module includes a few labs describing gluons basic features such as ndarray and autograd. for further information please check [this link](https://gluon-crash-course.mxnet.io/)| 60 min|\n",
    "|mod01|Bulding Liner/Logistic Regression using Gluon| This module uses gluon's `nn` librry to perform linear and logstic regression as an introductory path to the API | 45 min|\n",
    "|mod01| [Creating a simple MLP using gluon]()| This invites the attendees to implement their own MLP using gluon's sequential model. We use a simple [Fashion MNist dataset](https://github.com/zalandoresearch/fashion-mnist). The lab in designed to familiarize the audience with different parameterss of bulding and training a model thourgh assigning challenges to improve the results| 45 minutes|"
   ]
  },
  {
   "cell_type": "code",
   "execution_count": null,
   "metadata": {},
   "outputs": [],
   "source": []
  }
 ],
 "metadata": {
  "kernelspec": {
   "display_name": "conda_mxnet_p36",
   "language": "python",
   "name": "conda_mxnet_p36"
  },
  "language_info": {
   "codemirror_mode": {
    "name": "ipython",
    "version": 3
   },
   "file_extension": ".py",
   "mimetype": "text/x-python",
   "name": "python",
   "nbconvert_exporter": "python",
   "pygments_lexer": "ipython3",
   "version": "3.6.4"
  }
 },
 "nbformat": 4,
 "nbformat_minor": 2
}
